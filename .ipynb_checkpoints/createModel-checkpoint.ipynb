{
 "cells": [
  {
   "cell_type": "code",
   "execution_count": 1,
   "id": "dff7b32d",
   "metadata": {},
   "outputs": [
    {
     "data": {
      "text/html": [
       "<div>\n",
       "<style scoped>\n",
       "    .dataframe tbody tr th:only-of-type {\n",
       "        vertical-align: middle;\n",
       "    }\n",
       "\n",
       "    .dataframe tbody tr th {\n",
       "        vertical-align: top;\n",
       "    }\n",
       "\n",
       "    .dataframe thead th {\n",
       "        text-align: right;\n",
       "    }\n",
       "</style>\n",
       "<table border=\"1\" class=\"dataframe\">\n",
       "  <thead>\n",
       "    <tr style=\"text-align: right;\">\n",
       "      <th></th>\n",
       "      <th>Nama Pegawai</th>\n",
       "      <th>Gender</th>\n",
       "      <th>Tanggal Masuk</th>\n",
       "      <th>Tanggal Resign</th>\n",
       "      <th>Status</th>\n",
       "      <th>Department</th>\n",
       "      <th>Jabatan</th>\n",
       "      <th>Performance (1-5)</th>\n",
       "      <th>Jumlah Promosi</th>\n",
       "      <th>Feedback</th>\n",
       "    </tr>\n",
       "  </thead>\n",
       "  <tbody>\n",
       "    <tr>\n",
       "      <th>0</th>\n",
       "      <td>Steven Reid</td>\n",
       "      <td>Laki-laki</td>\n",
       "      <td>7/5/2023</td>\n",
       "      <td>NaN</td>\n",
       "      <td>Aktif</td>\n",
       "      <td>Finance</td>\n",
       "      <td>Senior Staff</td>\n",
       "      <td>1</td>\n",
       "      <td>2</td>\n",
       "      <td>Terlalu banyak tekanan kerja tanpa apresiasi.</td>\n",
       "    </tr>\n",
       "    <tr>\n",
       "      <th>1</th>\n",
       "      <td>Sandra Johnson</td>\n",
       "      <td>Laki-laki</td>\n",
       "      <td>3/8/2024</td>\n",
       "      <td>NaN</td>\n",
       "      <td>Aktif</td>\n",
       "      <td>HR</td>\n",
       "      <td>Senior Staff</td>\n",
       "      <td>1</td>\n",
       "      <td>0</td>\n",
       "      <td>Saya sangat senang bekerja di sini.</td>\n",
       "    </tr>\n",
       "    <tr>\n",
       "      <th>2</th>\n",
       "      <td>Cassandra Anderson</td>\n",
       "      <td>Perempuan</td>\n",
       "      <td>8/12/2023</td>\n",
       "      <td>NaN</td>\n",
       "      <td>Aktif</td>\n",
       "      <td>Finance</td>\n",
       "      <td>Manager</td>\n",
       "      <td>5</td>\n",
       "      <td>3</td>\n",
       "      <td>Terlalu banyak tekanan kerja tanpa apresiasi.</td>\n",
       "    </tr>\n",
       "    <tr>\n",
       "      <th>3</th>\n",
       "      <td>Nicholas Smith</td>\n",
       "      <td>Laki-laki</td>\n",
       "      <td>12/1/2020</td>\n",
       "      <td>NaN</td>\n",
       "      <td>Aktif</td>\n",
       "      <td>IT</td>\n",
       "      <td>Supervisor</td>\n",
       "      <td>2</td>\n",
       "      <td>3</td>\n",
       "      <td>Saya merasa dihargai atas kerja keras saya.</td>\n",
       "    </tr>\n",
       "    <tr>\n",
       "      <th>4</th>\n",
       "      <td>Jennifer Walton</td>\n",
       "      <td>Perempuan</td>\n",
       "      <td>1/7/2023</td>\n",
       "      <td>4/5/2024</td>\n",
       "      <td>Resign</td>\n",
       "      <td>IT</td>\n",
       "      <td>Supervisor</td>\n",
       "      <td>4</td>\n",
       "      <td>0</td>\n",
       "      <td>Lingkungan kerja tidak mendukung perkembangan.</td>\n",
       "    </tr>\n",
       "  </tbody>\n",
       "</table>\n",
       "</div>"
      ],
      "text/plain": [
       "         Nama Pegawai     Gender Tanggal Masuk Tanggal Resign  Status  \\\n",
       "0         Steven Reid  Laki-laki      7/5/2023            NaN   Aktif   \n",
       "1      Sandra Johnson  Laki-laki      3/8/2024            NaN   Aktif   \n",
       "2  Cassandra Anderson  Perempuan     8/12/2023            NaN   Aktif   \n",
       "3      Nicholas Smith  Laki-laki     12/1/2020            NaN   Aktif   \n",
       "4     Jennifer Walton  Perempuan      1/7/2023       4/5/2024  Resign   \n",
       "\n",
       "  Department       Jabatan  Performance (1-5)  Jumlah Promosi  \\\n",
       "0    Finance  Senior Staff                  1               2   \n",
       "1         HR  Senior Staff                  1               0   \n",
       "2    Finance       Manager                  5               3   \n",
       "3         IT    Supervisor                  2               3   \n",
       "4         IT    Supervisor                  4               0   \n",
       "\n",
       "                                         Feedback  \n",
       "0   Terlalu banyak tekanan kerja tanpa apresiasi.  \n",
       "1             Saya sangat senang bekerja di sini.  \n",
       "2   Terlalu banyak tekanan kerja tanpa apresiasi.  \n",
       "3     Saya merasa dihargai atas kerja keras saya.  \n",
       "4  Lingkungan kerja tidak mendukung perkembangan.  "
      ]
     },
     "execution_count": 1,
     "metadata": {},
     "output_type": "execute_result"
    }
   ],
   "source": [
    "import pandas as pd\n",
    "\n",
    "df = pd.read_csv('data/data_pegawai_hr_project.csv')\n",
    "\n",
    "df.head()"
   ]
  },
  {
   "cell_type": "code",
   "execution_count": 2,
   "id": "f9b50cd2",
   "metadata": {},
   "outputs": [
    {
     "name": "stdout",
     "output_type": "stream",
     "text": [
      "Status\n",
      "Aktif     74\n",
      "Resign    26\n",
      "Name: count, dtype: int64\n"
     ]
    }
   ],
   "source": [
    "print(df['Status'].value_counts())"
   ]
  },
  {
   "cell_type": "code",
   "execution_count": 3,
   "id": "a6fc28d0",
   "metadata": {},
   "outputs": [
    {
     "name": "stdout",
     "output_type": "stream",
     "text": [
      "   Status  Status_num\n",
      "0   Aktif           0\n",
      "1   Aktif           0\n",
      "2   Aktif           0\n",
      "3   Aktif           0\n",
      "4  Resign           1\n"
     ]
    }
   ],
   "source": [
    "###mengubah kolom tanggal\n",
    "df['Tanggal Masuk'] = pd.to_datetime(df['Tanggal Masuk'])\n",
    "df['Tanggal Resign'] = pd.to_datetime(df['Tanggal Resign'], errors='coerce')\n",
    "\n",
    "\n",
    "### mengubah status menjadi 0 untuk aktif dan 1 untuk resign\n",
    "df['Status_num'] = df['Status'].map({'Aktif':0, 'Resign':1})\n",
    "\n",
    "### cek hasil\n",
    "print(df[['Status','Status_num']].head())"
   ]
  },
  {
   "cell_type": "code",
   "execution_count": 4,
   "id": "d7a1ca7b",
   "metadata": {},
   "outputs": [],
   "source": [
    "\n",
    "from deep_translator import GoogleTranslator\n",
    "from vaderSentiment.vaderSentiment import SentimentIntensityAnalyzer"
   ]
  },
  {
   "cell_type": "code",
   "execution_count": 5,
   "id": "bb068ca6",
   "metadata": {},
   "outputs": [],
   "source": [
    "analyzer = SentimentIntensityAnalyzer()\n",
    "\n",
    "def translate_feedback(text):\n",
    "  return GoogleTranslator(source='auto', target='en').translate(text)\n",
    "\n",
    "\n",
    "def get_vader_sentiment(feedback):\n",
    "  english_text = translate_feedback(feedback)\n",
    "  sentiment = analyzer.polarity_scores(english_text)\n",
    "  if sentiment['compound'] >= 0.05:\n",
    "    return 'Positif'\n",
    "  elif sentiment['compound'] <= -0.05:\n",
    "    return 'Negatif'\n",
    "  else:\n",
    "    return 'Netral'"
   ]
  },
  {
   "cell_type": "code",
   "execution_count": 6,
   "id": "499e7c3f",
   "metadata": {},
   "outputs": [],
   "source": [
    "df_cleaned = df[~df['Feedback'].str.match(r'^[.,\\s]*$')]"
   ]
  },
  {
   "cell_type": "code",
   "execution_count": 12,
   "id": "a7e44b37",
   "metadata": {},
   "outputs": [
    {
     "data": {
      "text/html": [
       "<div>\n",
       "<style scoped>\n",
       "    .dataframe tbody tr th:only-of-type {\n",
       "        vertical-align: middle;\n",
       "    }\n",
       "\n",
       "    .dataframe tbody tr th {\n",
       "        vertical-align: top;\n",
       "    }\n",
       "\n",
       "    .dataframe thead th {\n",
       "        text-align: right;\n",
       "    }\n",
       "</style>\n",
       "<table border=\"1\" class=\"dataframe\">\n",
       "  <thead>\n",
       "    <tr style=\"text-align: right;\">\n",
       "      <th></th>\n",
       "      <th>Nama Pegawai</th>\n",
       "      <th>Gender</th>\n",
       "      <th>Tanggal Masuk</th>\n",
       "      <th>Tanggal Resign</th>\n",
       "      <th>Status</th>\n",
       "      <th>Department</th>\n",
       "      <th>Jabatan</th>\n",
       "      <th>Performance (1-5)</th>\n",
       "      <th>Jumlah Promosi</th>\n",
       "      <th>Feedback</th>\n",
       "      <th>Status_num</th>\n",
       "    </tr>\n",
       "  </thead>\n",
       "  <tbody>\n",
       "    <tr>\n",
       "      <th>0</th>\n",
       "      <td>Steven Reid</td>\n",
       "      <td>Laki-laki</td>\n",
       "      <td>2023-07-05</td>\n",
       "      <td>NaT</td>\n",
       "      <td>Aktif</td>\n",
       "      <td>Finance</td>\n",
       "      <td>Senior Staff</td>\n",
       "      <td>1</td>\n",
       "      <td>2</td>\n",
       "      <td>Terlalu banyak tekanan kerja tanpa apresiasi.</td>\n",
       "      <td>0</td>\n",
       "    </tr>\n",
       "    <tr>\n",
       "      <th>1</th>\n",
       "      <td>Sandra Johnson</td>\n",
       "      <td>Laki-laki</td>\n",
       "      <td>2024-03-08</td>\n",
       "      <td>NaT</td>\n",
       "      <td>Aktif</td>\n",
       "      <td>HR</td>\n",
       "      <td>Senior Staff</td>\n",
       "      <td>1</td>\n",
       "      <td>0</td>\n",
       "      <td>Saya sangat senang bekerja di sini.</td>\n",
       "      <td>0</td>\n",
       "    </tr>\n",
       "    <tr>\n",
       "      <th>2</th>\n",
       "      <td>Cassandra Anderson</td>\n",
       "      <td>Perempuan</td>\n",
       "      <td>2023-08-12</td>\n",
       "      <td>NaT</td>\n",
       "      <td>Aktif</td>\n",
       "      <td>Finance</td>\n",
       "      <td>Manager</td>\n",
       "      <td>5</td>\n",
       "      <td>3</td>\n",
       "      <td>Terlalu banyak tekanan kerja tanpa apresiasi.</td>\n",
       "      <td>0</td>\n",
       "    </tr>\n",
       "    <tr>\n",
       "      <th>3</th>\n",
       "      <td>Nicholas Smith</td>\n",
       "      <td>Laki-laki</td>\n",
       "      <td>2020-12-01</td>\n",
       "      <td>NaT</td>\n",
       "      <td>Aktif</td>\n",
       "      <td>IT</td>\n",
       "      <td>Supervisor</td>\n",
       "      <td>2</td>\n",
       "      <td>3</td>\n",
       "      <td>Saya merasa dihargai atas kerja keras saya.</td>\n",
       "      <td>0</td>\n",
       "    </tr>\n",
       "    <tr>\n",
       "      <th>4</th>\n",
       "      <td>Jennifer Walton</td>\n",
       "      <td>Perempuan</td>\n",
       "      <td>2023-01-07</td>\n",
       "      <td>2024-04-05</td>\n",
       "      <td>Resign</td>\n",
       "      <td>IT</td>\n",
       "      <td>Supervisor</td>\n",
       "      <td>4</td>\n",
       "      <td>0</td>\n",
       "      <td>Lingkungan kerja tidak mendukung perkembangan.</td>\n",
       "      <td>1</td>\n",
       "    </tr>\n",
       "  </tbody>\n",
       "</table>\n",
       "</div>"
      ],
      "text/plain": [
       "         Nama Pegawai     Gender Tanggal Masuk Tanggal Resign  Status  \\\n",
       "0         Steven Reid  Laki-laki    2023-07-05            NaT   Aktif   \n",
       "1      Sandra Johnson  Laki-laki    2024-03-08            NaT   Aktif   \n",
       "2  Cassandra Anderson  Perempuan    2023-08-12            NaT   Aktif   \n",
       "3      Nicholas Smith  Laki-laki    2020-12-01            NaT   Aktif   \n",
       "4     Jennifer Walton  Perempuan    2023-01-07     2024-04-05  Resign   \n",
       "\n",
       "  Department       Jabatan  Performance (1-5)  Jumlah Promosi  \\\n",
       "0    Finance  Senior Staff                  1               2   \n",
       "1         HR  Senior Staff                  1               0   \n",
       "2    Finance       Manager                  5               3   \n",
       "3         IT    Supervisor                  2               3   \n",
       "4         IT    Supervisor                  4               0   \n",
       "\n",
       "                                         Feedback  Status_num  \n",
       "0   Terlalu banyak tekanan kerja tanpa apresiasi.           0  \n",
       "1             Saya sangat senang bekerja di sini.           0  \n",
       "2   Terlalu banyak tekanan kerja tanpa apresiasi.           0  \n",
       "3     Saya merasa dihargai atas kerja keras saya.           0  \n",
       "4  Lingkungan kerja tidak mendukung perkembangan.           1  "
      ]
     },
     "execution_count": 12,
     "metadata": {},
     "output_type": "execute_result"
    }
   ],
   "source": [
    "df_cleaned.head()"
   ]
  },
  {
   "cell_type": "code",
   "execution_count": 7,
   "id": "927b940e",
   "metadata": {},
   "outputs": [
    {
     "data": {
      "text/html": [
       "<div>\n",
       "<style scoped>\n",
       "    .dataframe tbody tr th:only-of-type {\n",
       "        vertical-align: middle;\n",
       "    }\n",
       "\n",
       "    .dataframe tbody tr th {\n",
       "        vertical-align: top;\n",
       "    }\n",
       "\n",
       "    .dataframe thead th {\n",
       "        text-align: right;\n",
       "    }\n",
       "</style>\n",
       "<table border=\"1\" class=\"dataframe\">\n",
       "  <thead>\n",
       "    <tr style=\"text-align: right;\">\n",
       "      <th></th>\n",
       "      <th>Nama Pegawai</th>\n",
       "      <th>Gender</th>\n",
       "      <th>Tanggal Masuk</th>\n",
       "      <th>Tanggal Resign</th>\n",
       "      <th>Status</th>\n",
       "      <th>Department</th>\n",
       "      <th>Jabatan</th>\n",
       "      <th>Performance (1-5)</th>\n",
       "      <th>Jumlah Promosi</th>\n",
       "      <th>Feedback</th>\n",
       "      <th>Status_num</th>\n",
       "      <th>Sentimen</th>\n",
       "    </tr>\n",
       "  </thead>\n",
       "  <tbody>\n",
       "    <tr>\n",
       "      <th>0</th>\n",
       "      <td>Steven Reid</td>\n",
       "      <td>Laki-laki</td>\n",
       "      <td>2023-07-05</td>\n",
       "      <td>NaT</td>\n",
       "      <td>Aktif</td>\n",
       "      <td>Finance</td>\n",
       "      <td>Senior Staff</td>\n",
       "      <td>1</td>\n",
       "      <td>2</td>\n",
       "      <td>Terlalu banyak tekanan kerja tanpa apresiasi.</td>\n",
       "      <td>0</td>\n",
       "      <td>Negatif</td>\n",
       "    </tr>\n",
       "    <tr>\n",
       "      <th>1</th>\n",
       "      <td>Sandra Johnson</td>\n",
       "      <td>Laki-laki</td>\n",
       "      <td>2024-03-08</td>\n",
       "      <td>NaT</td>\n",
       "      <td>Aktif</td>\n",
       "      <td>HR</td>\n",
       "      <td>Senior Staff</td>\n",
       "      <td>1</td>\n",
       "      <td>0</td>\n",
       "      <td>Saya sangat senang bekerja di sini.</td>\n",
       "      <td>0</td>\n",
       "      <td>Positif</td>\n",
       "    </tr>\n",
       "    <tr>\n",
       "      <th>2</th>\n",
       "      <td>Cassandra Anderson</td>\n",
       "      <td>Perempuan</td>\n",
       "      <td>2023-08-12</td>\n",
       "      <td>NaT</td>\n",
       "      <td>Aktif</td>\n",
       "      <td>Finance</td>\n",
       "      <td>Manager</td>\n",
       "      <td>5</td>\n",
       "      <td>3</td>\n",
       "      <td>Terlalu banyak tekanan kerja tanpa apresiasi.</td>\n",
       "      <td>0</td>\n",
       "      <td>Negatif</td>\n",
       "    </tr>\n",
       "    <tr>\n",
       "      <th>3</th>\n",
       "      <td>Nicholas Smith</td>\n",
       "      <td>Laki-laki</td>\n",
       "      <td>2020-12-01</td>\n",
       "      <td>NaT</td>\n",
       "      <td>Aktif</td>\n",
       "      <td>IT</td>\n",
       "      <td>Supervisor</td>\n",
       "      <td>2</td>\n",
       "      <td>3</td>\n",
       "      <td>Saya merasa dihargai atas kerja keras saya.</td>\n",
       "      <td>0</td>\n",
       "      <td>Positif</td>\n",
       "    </tr>\n",
       "    <tr>\n",
       "      <th>4</th>\n",
       "      <td>Jennifer Walton</td>\n",
       "      <td>Perempuan</td>\n",
       "      <td>2023-01-07</td>\n",
       "      <td>2024-04-05</td>\n",
       "      <td>Resign</td>\n",
       "      <td>IT</td>\n",
       "      <td>Supervisor</td>\n",
       "      <td>4</td>\n",
       "      <td>0</td>\n",
       "      <td>Lingkungan kerja tidak mendukung perkembangan.</td>\n",
       "      <td>1</td>\n",
       "      <td>Negatif</td>\n",
       "    </tr>\n",
       "  </tbody>\n",
       "</table>\n",
       "</div>"
      ],
      "text/plain": [
       "         Nama Pegawai     Gender Tanggal Masuk Tanggal Resign  Status  \\\n",
       "0         Steven Reid  Laki-laki    2023-07-05            NaT   Aktif   \n",
       "1      Sandra Johnson  Laki-laki    2024-03-08            NaT   Aktif   \n",
       "2  Cassandra Anderson  Perempuan    2023-08-12            NaT   Aktif   \n",
       "3      Nicholas Smith  Laki-laki    2020-12-01            NaT   Aktif   \n",
       "4     Jennifer Walton  Perempuan    2023-01-07     2024-04-05  Resign   \n",
       "\n",
       "  Department       Jabatan  Performance (1-5)  Jumlah Promosi  \\\n",
       "0    Finance  Senior Staff                  1               2   \n",
       "1         HR  Senior Staff                  1               0   \n",
       "2    Finance       Manager                  5               3   \n",
       "3         IT    Supervisor                  2               3   \n",
       "4         IT    Supervisor                  4               0   \n",
       "\n",
       "                                         Feedback  Status_num Sentimen  \n",
       "0   Terlalu banyak tekanan kerja tanpa apresiasi.           0  Negatif  \n",
       "1             Saya sangat senang bekerja di sini.           0  Positif  \n",
       "2   Terlalu banyak tekanan kerja tanpa apresiasi.           0  Negatif  \n",
       "3     Saya merasa dihargai atas kerja keras saya.           0  Positif  \n",
       "4  Lingkungan kerja tidak mendukung perkembangan.           1  Negatif  "
      ]
     },
     "execution_count": 7,
     "metadata": {},
     "output_type": "execute_result"
    }
   ],
   "source": [
    "df_cleaned['Sentimen'] = df_cleaned['Feedback'].apply(get_vader_sentiment)\n",
    "df_cleaned.head()"
   ]
  },
  {
   "cell_type": "code",
   "execution_count": 8,
   "id": "b811474b",
   "metadata": {},
   "outputs": [],
   "source": [
    "### mengubah sentimen menjadi 0 untuk Positif dan 1 untuk Negatif\n",
    "df_cleaned['Sentimen_num'] = df_cleaned['Sentimen'].map({'Positif':0, 'Negatif':1, 'Netral':2})"
   ]
  },
  {
   "cell_type": "code",
   "execution_count": 18,
   "id": "a516d6e1",
   "metadata": {},
   "outputs": [
    {
     "data": {
      "text/html": [
       "<div>\n",
       "<style scoped>\n",
       "    .dataframe tbody tr th:only-of-type {\n",
       "        vertical-align: middle;\n",
       "    }\n",
       "\n",
       "    .dataframe tbody tr th {\n",
       "        vertical-align: top;\n",
       "    }\n",
       "\n",
       "    .dataframe thead th {\n",
       "        text-align: right;\n",
       "    }\n",
       "</style>\n",
       "<table border=\"1\" class=\"dataframe\">\n",
       "  <thead>\n",
       "    <tr style=\"text-align: right;\">\n",
       "      <th></th>\n",
       "      <th>Nama Pegawai</th>\n",
       "      <th>Gender</th>\n",
       "      <th>Tanggal Masuk</th>\n",
       "      <th>Tanggal Resign</th>\n",
       "      <th>Status</th>\n",
       "      <th>Department</th>\n",
       "      <th>Jabatan</th>\n",
       "      <th>Performance (1-5)</th>\n",
       "      <th>Jumlah Promosi</th>\n",
       "      <th>Feedback</th>\n",
       "      <th>Status_num</th>\n",
       "      <th>Sentimen</th>\n",
       "      <th>Sentimen_num</th>\n",
       "    </tr>\n",
       "  </thead>\n",
       "  <tbody>\n",
       "    <tr>\n",
       "      <th>0</th>\n",
       "      <td>Steven Reid</td>\n",
       "      <td>Laki-laki</td>\n",
       "      <td>2023-07-05</td>\n",
       "      <td>NaT</td>\n",
       "      <td>Aktif</td>\n",
       "      <td>Finance</td>\n",
       "      <td>Senior Staff</td>\n",
       "      <td>1</td>\n",
       "      <td>2</td>\n",
       "      <td>Terlalu banyak tekanan kerja tanpa apresiasi.</td>\n",
       "      <td>0</td>\n",
       "      <td>Negatif</td>\n",
       "      <td>1</td>\n",
       "    </tr>\n",
       "    <tr>\n",
       "      <th>1</th>\n",
       "      <td>Sandra Johnson</td>\n",
       "      <td>Laki-laki</td>\n",
       "      <td>2024-03-08</td>\n",
       "      <td>NaT</td>\n",
       "      <td>Aktif</td>\n",
       "      <td>HR</td>\n",
       "      <td>Senior Staff</td>\n",
       "      <td>1</td>\n",
       "      <td>0</td>\n",
       "      <td>Saya sangat senang bekerja di sini.</td>\n",
       "      <td>0</td>\n",
       "      <td>Positif</td>\n",
       "      <td>0</td>\n",
       "    </tr>\n",
       "    <tr>\n",
       "      <th>2</th>\n",
       "      <td>Cassandra Anderson</td>\n",
       "      <td>Perempuan</td>\n",
       "      <td>2023-08-12</td>\n",
       "      <td>NaT</td>\n",
       "      <td>Aktif</td>\n",
       "      <td>Finance</td>\n",
       "      <td>Manager</td>\n",
       "      <td>5</td>\n",
       "      <td>3</td>\n",
       "      <td>Terlalu banyak tekanan kerja tanpa apresiasi.</td>\n",
       "      <td>0</td>\n",
       "      <td>Negatif</td>\n",
       "      <td>1</td>\n",
       "    </tr>\n",
       "    <tr>\n",
       "      <th>3</th>\n",
       "      <td>Nicholas Smith</td>\n",
       "      <td>Laki-laki</td>\n",
       "      <td>2020-12-01</td>\n",
       "      <td>NaT</td>\n",
       "      <td>Aktif</td>\n",
       "      <td>IT</td>\n",
       "      <td>Supervisor</td>\n",
       "      <td>2</td>\n",
       "      <td>3</td>\n",
       "      <td>Saya merasa dihargai atas kerja keras saya.</td>\n",
       "      <td>0</td>\n",
       "      <td>Positif</td>\n",
       "      <td>0</td>\n",
       "    </tr>\n",
       "    <tr>\n",
       "      <th>4</th>\n",
       "      <td>Jennifer Walton</td>\n",
       "      <td>Perempuan</td>\n",
       "      <td>2023-01-07</td>\n",
       "      <td>2024-04-05</td>\n",
       "      <td>Resign</td>\n",
       "      <td>IT</td>\n",
       "      <td>Supervisor</td>\n",
       "      <td>4</td>\n",
       "      <td>0</td>\n",
       "      <td>Lingkungan kerja tidak mendukung perkembangan.</td>\n",
       "      <td>1</td>\n",
       "      <td>Negatif</td>\n",
       "      <td>1</td>\n",
       "    </tr>\n",
       "  </tbody>\n",
       "</table>\n",
       "</div>"
      ],
      "text/plain": [
       "         Nama Pegawai     Gender Tanggal Masuk Tanggal Resign  Status  \\\n",
       "0         Steven Reid  Laki-laki    2023-07-05            NaT   Aktif   \n",
       "1      Sandra Johnson  Laki-laki    2024-03-08            NaT   Aktif   \n",
       "2  Cassandra Anderson  Perempuan    2023-08-12            NaT   Aktif   \n",
       "3      Nicholas Smith  Laki-laki    2020-12-01            NaT   Aktif   \n",
       "4     Jennifer Walton  Perempuan    2023-01-07     2024-04-05  Resign   \n",
       "\n",
       "  Department       Jabatan  Performance (1-5)  Jumlah Promosi  \\\n",
       "0    Finance  Senior Staff                  1               2   \n",
       "1         HR  Senior Staff                  1               0   \n",
       "2    Finance       Manager                  5               3   \n",
       "3         IT    Supervisor                  2               3   \n",
       "4         IT    Supervisor                  4               0   \n",
       "\n",
       "                                         Feedback  Status_num Sentimen  \\\n",
       "0   Terlalu banyak tekanan kerja tanpa apresiasi.           0  Negatif   \n",
       "1             Saya sangat senang bekerja di sini.           0  Positif   \n",
       "2   Terlalu banyak tekanan kerja tanpa apresiasi.           0  Negatif   \n",
       "3     Saya merasa dihargai atas kerja keras saya.           0  Positif   \n",
       "4  Lingkungan kerja tidak mendukung perkembangan.           1  Negatif   \n",
       "\n",
       "   Sentimen_num  \n",
       "0             1  \n",
       "1             0  \n",
       "2             1  \n",
       "3             0  \n",
       "4             1  "
      ]
     },
     "execution_count": 18,
     "metadata": {},
     "output_type": "execute_result"
    }
   ],
   "source": [
    "df_cleaned.head()"
   ]
  },
  {
   "cell_type": "markdown",
   "id": "5bd95966",
   "metadata": {},
   "source": [
    "df_new = (df[['Nama Pegawai','Gender','Status_num','Jabatan','Performance (1-5)','Jumlah Promosi','Sentimen_num']])"
   ]
  },
  {
   "cell_type": "code",
   "execution_count": 13,
   "id": "6043cb74",
   "metadata": {},
   "outputs": [
    {
     "data": {
      "text/html": [
       "<div>\n",
       "<style scoped>\n",
       "    .dataframe tbody tr th:only-of-type {\n",
       "        vertical-align: middle;\n",
       "    }\n",
       "\n",
       "    .dataframe tbody tr th {\n",
       "        vertical-align: top;\n",
       "    }\n",
       "\n",
       "    .dataframe thead th {\n",
       "        text-align: right;\n",
       "    }\n",
       "</style>\n",
       "<table border=\"1\" class=\"dataframe\">\n",
       "  <thead>\n",
       "    <tr style=\"text-align: right;\">\n",
       "      <th></th>\n",
       "      <th>Nama Pegawai</th>\n",
       "      <th>Gender</th>\n",
       "      <th>Status_num</th>\n",
       "      <th>Jabatan</th>\n",
       "      <th>Performance (1-5)</th>\n",
       "      <th>Jumlah Promosi</th>\n",
       "      <th>Sentimen_num</th>\n",
       "    </tr>\n",
       "  </thead>\n",
       "  <tbody>\n",
       "    <tr>\n",
       "      <th>0</th>\n",
       "      <td>Steven Reid</td>\n",
       "      <td>Laki-laki</td>\n",
       "      <td>0</td>\n",
       "      <td>Senior Staff</td>\n",
       "      <td>1</td>\n",
       "      <td>2</td>\n",
       "      <td>1</td>\n",
       "    </tr>\n",
       "    <tr>\n",
       "      <th>1</th>\n",
       "      <td>Sandra Johnson</td>\n",
       "      <td>Laki-laki</td>\n",
       "      <td>0</td>\n",
       "      <td>Senior Staff</td>\n",
       "      <td>1</td>\n",
       "      <td>0</td>\n",
       "      <td>0</td>\n",
       "    </tr>\n",
       "    <tr>\n",
       "      <th>2</th>\n",
       "      <td>Cassandra Anderson</td>\n",
       "      <td>Perempuan</td>\n",
       "      <td>0</td>\n",
       "      <td>Manager</td>\n",
       "      <td>5</td>\n",
       "      <td>3</td>\n",
       "      <td>1</td>\n",
       "    </tr>\n",
       "    <tr>\n",
       "      <th>3</th>\n",
       "      <td>Nicholas Smith</td>\n",
       "      <td>Laki-laki</td>\n",
       "      <td>0</td>\n",
       "      <td>Supervisor</td>\n",
       "      <td>2</td>\n",
       "      <td>3</td>\n",
       "      <td>0</td>\n",
       "    </tr>\n",
       "    <tr>\n",
       "      <th>4</th>\n",
       "      <td>Jennifer Walton</td>\n",
       "      <td>Perempuan</td>\n",
       "      <td>1</td>\n",
       "      <td>Supervisor</td>\n",
       "      <td>4</td>\n",
       "      <td>0</td>\n",
       "      <td>1</td>\n",
       "    </tr>\n",
       "  </tbody>\n",
       "</table>\n",
       "</div>"
      ],
      "text/plain": [
       "         Nama Pegawai     Gender  Status_num       Jabatan  Performance (1-5)  \\\n",
       "0         Steven Reid  Laki-laki           0  Senior Staff                  1   \n",
       "1      Sandra Johnson  Laki-laki           0  Senior Staff                  1   \n",
       "2  Cassandra Anderson  Perempuan           0       Manager                  5   \n",
       "3      Nicholas Smith  Laki-laki           0    Supervisor                  2   \n",
       "4     Jennifer Walton  Perempuan           1    Supervisor                  4   \n",
       "\n",
       "   Jumlah Promosi  Sentimen_num  \n",
       "0               2             1  \n",
       "1               0             0  \n",
       "2               3             1  \n",
       "3               3             0  \n",
       "4               0             1  "
      ]
     },
     "execution_count": 13,
     "metadata": {},
     "output_type": "execute_result"
    }
   ],
   "source": [
    "df_new = (df_cleaned[['Nama Pegawai','Gender','Status_num','Jabatan','Performance (1-5)','Jumlah Promosi','Sentimen_num']])\n",
    "df_new.head()"
   ]
  },
  {
   "cell_type": "code",
   "execution_count": 14,
   "id": "0f8ba935",
   "metadata": {},
   "outputs": [
    {
     "data": {
      "image/png": "[encoded data removed]",
      "text/plain": [
       "<Figure size 640x480 with 1 Axes>"
      ]
     },
     "metadata": {},
     "output_type": "display_data"
    }
   ],
   "source": [
    "import seaborn as sns\n",
    "import matplotlib.pyplot as plt\n",
    "\n",
    "sns.countplot(data=df_new, x='Jabatan',hue='Status_num')\n",
    "plt.title(\"Distribusi Resign berdasarkan Jabatan (status num 0 untuk aktif dan 1 untuk resign)\")\n",
    "plt.xticks(rotation=45)\n",
    "plt.show()"
   ]
  },
  {
   "cell_type": "code",
   "execution_count": 15,
   "id": "1aaf3e3c",
   "metadata": {},
   "outputs": [
    {
     "data": {
      "image/png": "[encoded data removed]",
      "text/plain": [
       "<Figure size 640x480 with 1 Axes>"
      ]
     },
     "metadata": {},
     "output_type": "display_data"
    }
   ],
   "source": [
    "sns.boxplot(data=df_new, x='Status_num', y='Performance (1-5)')\n",
    "plt.title(\"Distribusi Performance terhadap status\")\n",
    "plt.show()"
   ]
  },
  {
   "cell_type": "code",
   "execution_count": 19,
   "id": "d44cfae3",
   "metadata": {},
   "outputs": [
    {
     "data": {
      "image/png": "[encoded data removed]",
      "text/plain": [
       "<Figure size 640x480 with 1 Axes>"
      ]
     },
     "metadata": {},
     "output_type": "display_data"
    }
   ],
   "source": [
    "sns.countplot(data=df_new, x='Sentimen_num',hue='Status_num')\n",
    "plt.title(\"Sentimen vs Status\")\n",
    "plt.xticks([0,1], ['Positif','Negatif'])\n",
    "plt.show()"
   ]
  },
  {
   "cell_type": "code",
   "execution_count": 20,
   "id": "3a7d7e84",
   "metadata": {},
   "outputs": [
    {
     "data": {
      "text/plain": [
       "Nama Pegawai         100\n",
       "Gender               100\n",
       "Status_num           100\n",
       "Jabatan              100\n",
       "Performance (1-5)    100\n",
       "Jumlah Promosi       100\n",
       "Sentimen_num         100\n",
       "dtype: int64"
      ]
     },
     "execution_count": 20,
     "metadata": {},
     "output_type": "execute_result"
    }
   ],
   "source": [
    "df_new.count()"
   ]
  },
  {
   "cell_type": "code",
   "execution_count": 17,
   "id": "69029418",
   "metadata": {},
   "outputs": [
    {
     "data": {
      "image/png": "[encoded data removed]",
      "text/plain": [
       "<Figure size 640x480 with 1 Axes>"
      ]
     },
     "metadata": {},
     "output_type": "display_data"
    }
   ],
   "source": [
    "###menngetahui promosi vs status\n",
    "sns.boxplot(x='Status_num', y='Jumlah Promosi', data=df_new)\n",
    "plt.title('Distribusi jumlah promosi terhadap status')\n",
    "plt.xlabel('Status_num (0=Aktif, 1=Resign)')\n",
    "plt.ylabel('Jumlah Promosi')\n",
    "plt.show()"
   ]
  },
  {
   "cell_type": "code",
   "execution_count": 22,
   "id": "440cb73d",
   "metadata": {},
   "outputs": [
    {
     "data": {
      "image/png": "[encoded data removed]",
      "text/plain": [
       "<Figure size 600x400 with 1 Axes>"
      ]
     },
     "metadata": {},
     "output_type": "display_data"
    }
   ],
   "source": [
    "plt.figure(figsize=(6,4))\n",
    "sns.countplot(data=df_new, x='Sentimen_num', hue='Status_num', palette='YlOrBr')\n",
    "\n",
    "plt.title(\"Distribusi Sentimen terhadap Status Pegawai\")\n",
    "plt.xlabel(\"Sentimen (0=Positif, 1=Negatif)\")\n",
    "plt.ylabel(\"Jumlah Pegawai\")\n",
    "\n",
    "plt.legend(title=\"Status (0=Aktif, 1=Resign)\")\n",
    "plt.tight_layout()\n",
    "plt.show()"
   ]
  },
  {
   "cell_type": "code",
   "execution_count": 23,
   "id": "0a936f8a",
   "metadata": {},
   "outputs": [],
   "source": [
    "sentimen_status = df_cleaned.groupby(['Status','Sentimen']).size().reset_index(name='Jumlah')"
   ]
  },
  {
   "cell_type": "code",
   "execution_count": null,
   "id": "b57db684",
   "metadata": {},
   "outputs": [
    {
     "data": {
      "text/html": [
       "<div>\n",
       "<style scoped>\n",
       "    .dataframe tbody tr th:only-of-type {\n",
       "        vertical-align: middle;\n",
       "    }\n",
       "\n",
       "    .dataframe tbody tr th {\n",
       "        vertical-align: top;\n",
       "    }\n",
       "\n",
       "    .dataframe thead th {\n",
       "        text-align: right;\n",
       "    }\n",
       "</style>\n",
       "<table border=\"1\" class=\"dataframe\">\n",
       "  <thead>\n",
       "    <tr style=\"text-align: right;\">\n",
       "      <th></th>\n",
       "      <th>Nama Pegawai</th>\n",
       "      <th>Gender</th>\n",
       "      <th>Tanggal Masuk</th>\n",
       "      <th>Tanggal Resign</th>\n",
       "      <th>Status</th>\n",
       "      <th>Department</th>\n",
       "      <th>Jabatan</th>\n",
       "      <th>Performance (1-5)</th>\n",
       "      <th>Jumlah Promosi</th>\n",
       "      <th>Feedback</th>\n",
       "      <th>Status_num</th>\n",
       "      <th>Sentimen</th>\n",
       "      <th>Sentimen_num</th>\n",
       "    </tr>\n",
       "  </thead>\n",
       "  <tbody>\n",
       "    <tr>\n",
       "      <th>0</th>\n",
       "      <td>Steven Reid</td>\n",
       "      <td>Laki-laki</td>\n",
       "      <td>2023-07-05</td>\n",
       "      <td>NaT</td>\n",
       "      <td>Aktif</td>\n",
       "      <td>Finance</td>\n",
       "      <td>Senior Staff</td>\n",
       "      <td>1</td>\n",
       "      <td>2</td>\n",
       "      <td>Terlalu banyak tekanan kerja tanpa apresiasi.</td>\n",
       "      <td>0</td>\n",
       "      <td>Negatif</td>\n",
       "      <td>1</td>\n",
       "    </tr>\n",
       "    <tr>\n",
       "      <th>1</th>\n",
       "      <td>Sandra Johnson</td>\n",
       "      <td>Laki-laki</td>\n",
       "      <td>2024-03-08</td>\n",
       "      <td>NaT</td>\n",
       "      <td>Aktif</td>\n",
       "      <td>HR</td>\n",
       "      <td>Senior Staff</td>\n",
       "      <td>1</td>\n",
       "      <td>0</td>\n",
       "      <td>Saya sangat senang bekerja di sini.</td>\n",
       "      <td>0</td>\n",
       "      <td>Positif</td>\n",
       "      <td>0</td>\n",
       "    </tr>\n",
       "    <tr>\n",
       "      <th>2</th>\n",
       "      <td>Cassandra Anderson</td>\n",
       "      <td>Perempuan</td>\n",
       "      <td>2023-08-12</td>\n",
       "      <td>NaT</td>\n",
       "      <td>Aktif</td>\n",
       "      <td>Finance</td>\n",
       "      <td>Manager</td>\n",
       "      <td>5</td>\n",
       "      <td>3</td>\n",
       "      <td>Terlalu banyak tekanan kerja tanpa apresiasi.</td>\n",
       "      <td>0</td>\n",
       "      <td>Negatif</td>\n",
       "      <td>1</td>\n",
       "    </tr>\n",
       "    <tr>\n",
       "      <th>3</th>\n",
       "      <td>Nicholas Smith</td>\n",
       "      <td>Laki-laki</td>\n",
       "      <td>2020-12-01</td>\n",
       "      <td>NaT</td>\n",
       "      <td>Aktif</td>\n",
       "      <td>IT</td>\n",
       "      <td>Supervisor</td>\n",
       "      <td>2</td>\n",
       "      <td>3</td>\n",
       "      <td>Saya merasa dihargai atas kerja keras saya.</td>\n",
       "      <td>0</td>\n",
       "      <td>Positif</td>\n",
       "      <td>0</td>\n",
       "    </tr>\n",
       "    <tr>\n",
       "      <th>4</th>\n",
       "      <td>Jennifer Walton</td>\n",
       "      <td>Perempuan</td>\n",
       "      <td>2023-01-07</td>\n",
       "      <td>2024-04-05</td>\n",
       "      <td>Resign</td>\n",
       "      <td>IT</td>\n",
       "      <td>Supervisor</td>\n",
       "      <td>4</td>\n",
       "      <td>0</td>\n",
       "      <td>Lingkungan kerja tidak mendukung perkembangan.</td>\n",
       "      <td>1</td>\n",
       "      <td>Negatif</td>\n",
       "      <td>1</td>\n",
       "    </tr>\n",
       "  </tbody>\n",
       "</table>\n",
       "</div>"
      ],
      "text/plain": [
       "         Nama Pegawai     Gender Tanggal Masuk Tanggal Resign  Status  \\\n",
       "0         Steven Reid  Laki-laki    2023-07-05            NaT   Aktif   \n",
       "1      Sandra Johnson  Laki-laki    2024-03-08            NaT   Aktif   \n",
       "2  Cassandra Anderson  Perempuan    2023-08-12            NaT   Aktif   \n",
       "3      Nicholas Smith  Laki-laki    2020-12-01            NaT   Aktif   \n",
       "4     Jennifer Walton  Perempuan    2023-01-07     2024-04-05  Resign   \n",
       "\n",
       "  Department       Jabatan  Performance (1-5)  Jumlah Promosi  \\\n",
       "0    Finance  Senior Staff                  1               2   \n",
       "1         HR  Senior Staff                  1               0   \n",
       "2    Finance       Manager                  5               3   \n",
       "3         IT    Supervisor                  2               3   \n",
       "4         IT    Supervisor                  4               0   \n",
       "\n",
       "                                         Feedback  Status_num Sentimen  \\\n",
       "0   Terlalu banyak tekanan kerja tanpa apresiasi.           0  Negatif   \n",
       "1             Saya sangat senang bekerja di sini.           0  Positif   \n",
       "2   Terlalu banyak tekanan kerja tanpa apresiasi.           0  Negatif   \n",
       "3     Saya merasa dihargai atas kerja keras saya.           0  Positif   \n",
       "4  Lingkungan kerja tidak mendukung perkembangan.           1  Negatif   \n",
       "\n",
       "   Sentimen_num  \n",
       "0             1  \n",
       "1             0  \n",
       "2             1  \n",
       "3             0  \n",
       "4             1  "
      ]
     },
     "execution_count": 24,
     "metadata": {},
     "output_type": "execute_result"
    }
   ],
   "source": [
    "df_cleaned.head()"
   ]
  },
  {
   "cell_type": "code",
   "execution_count": 27,
   "id": "6b96cfcf",
   "metadata": {},
   "outputs": [
    {
     "data": {
      "application/vnd.plotly.v1+json": {
       "config": {
        "plotlyServerURL": "https://plot.ly"
       },
       "data": [
        {
         "hovertemplate": "Sentimen=Negatif<br>Status=%{x}<br>Proporsi=%{y}<br>text=%{text}<extra></extra>",
         "legendgroup": "Negatif",
         "marker": {
          "color": "#636efa",
          "pattern": {
           "shape": ""
          }
         },
         "name": "Negatif",
         "orientation": "v",
         "showlegend": true,
         "text": [
          "20.3%",
          "15.4%"
         ],
         "textposition": "auto",
         "type": "bar",
         "x": [
          "Aktif",
          "Resign"
         ],
         "xaxis": "x",
         "y": {
          "bdata": "I591gynyyT8UO7ETO7HDPw==",
          "dtype": "f8"
         },
         "yaxis": "y"
        },
        {
         "hovertemplate": "Sentimen=Positif<br>Status=%{x}<br>Proporsi=%{y}<br>text=%{text}<extra></extra>",
         "legendgroup": "Positif",
         "marker": {
          "color": "#EF553B",
          "pattern": {
           "shape": ""
          }
         },
         "name": "Positif",
         "orientation": "v",
         "showlegend": true,
         "text": [
          "79.7%",
          "84.6%"
         ],
         "textposition": "auto",
         "type": "bar",
         "x": [
          "Aktif",
          "Resign"
         ],
         "xaxis": "x",
         "y": {
          "bdata": "N5gin3WD6T87sRM7sRPrPw==",
          "dtype": "f8"
         },
         "yaxis": "y"
        }
       ],
       "layout": {
        "barmode": "stack",
        "legend": {
         "title": {
          "text": "Sentimen"
         },
         "tracegroupgap": 0
        },
        "template": {
         "data": {
          "bar": [
           {
            "error_x": {
             "color": "#2a3f5f"
            },
            "error_y": {
             "color": "#2a3f5f"
            },
            "marker": {
             "line": {
              "color": "#E5ECF6",
              "width": 0.5
             },
             "pattern": {
              "fillmode": "overlay",
              "size": 10,
              "solidity": 0.2
             }
            },
            "type": "bar"
           }
          ],
          "barpolar": [
           {
            "marker": {
             "line": {
              "color": "#E5ECF6",
              "width": 0.5
             },
             "pattern": {
              "fillmode": "overlay",
              "size": 10,
              "solidity": 0.2
             }
            },
            "type": "barpolar"
           }
          ],
          "carpet": [
           {
            "aaxis": {
             "endlinecolor": "#2a3f5f",
             "gridcolor": "white",
             "linecolor": "white",
             "minorgridcolor": "white",
             "startlinecolor": "#2a3f5f"
            },
            "baxis": {
             "endlinecolor": "#2a3f5f",
             "gridcolor": "white",
             "linecolor": "white",
             "minorgridcolor": "white",
             "startlinecolor": "#2a3f5f"
            },
            "type": "carpet"
           }
          ],
          "choropleth": [
           {
            "colorbar": {
             "outlinewidth": 0,
             "ticks": ""
            },
            "type": "choropleth"
           }
          ],
          "contour": [
           {
            "colorbar": {
             "outlinewidth": 0,
             "ticks": ""
            },
            "colorscale": [
             [
              0,
              "#0d0887"
             ],
             [
              0.1111111111111111,
              "#46039f"
             ],
             [
              0.2222222222222222,
              "#7201a8"
             ],
             [
              0.3333333333333333,
              "#9c179e"
             ],
             [
              0.4444444444444444,
              "#bd3786"
             ],
             [
              0.5555555555555556,
              "#d8576b"
             ],
             [
              0.6666666666666666,
              "#ed7953"
             ],
             [
              0.7777777777777778,
              "#fb9f3a"
             ],
             [
              0.8888888888888888,
              "#fdca26"
             ],
             [
              1,
              "#f0f921"
             ]
            ],
            "type": "contour"
           }
          ],
          "contourcarpet": [
           {
            "colorbar": {
             "outlinewidth": 0,
             "ticks": ""
            },
            "type": "contourcarpet"
           }
          ],
          "heatmap": [
           {
            "colorbar": {
             "outlinewidth": 0,
             "ticks": ""
            },
            "colorscale": [
             [
              0,
              "#0d0887"
             ],
             [
              0.1111111111111111,
              "#46039f"
             ],
             [
              0.2222222222222222,
              "#7201a8"
             ],
             [
              0.3333333333333333,
              "#9c179e"
             ],
             [
              0.4444444444444444,
              "#bd3786"
             ],
             [
              0.5555555555555556,
              "#d8576b"
             ],
             [
              0.6666666666666666,
              "#ed7953"
             ],
             [
              0.7777777777777778,
              "#fb9f3a"
             ],
             [
              0.8888888888888888,
              "#fdca26"
             ],
             [
              1,
              "#f0f921"
             ]
            ],
            "type": "heatmap"
           }
          ],
          "histogram": [
           {
            "marker": {
             "pattern": {
              "fillmode": "overlay",
              "size": 10,
              "solidity": 0.2
             }
            },
            "type": "histogram"
           }
          ],
          "histogram2d": [
           {
            "colorbar": {
             "outlinewidth": 0,
             "ticks": ""
            },
            "colorscale": [
             [
              0,
              "#0d0887"
             ],
             [
              0.1111111111111111,
              "#46039f"
             ],
             [
              0.2222222222222222,
              "#7201a8"
             ],
             [
              0.3333333333333333,
              "#9c179e"
             ],
             [
              0.4444444444444444,
              "#bd3786"
             ],
             [
              0.5555555555555556,
              "#d8576b"
             ],
             [
              0.6666666666666666,
              "#ed7953"
             ],
             [
              0.7777777777777778,
              "#fb9f3a"
             ],
             [
              0.8888888888888888,
              "#fdca26"
             ],
             [
              1,
              "#f0f921"
             ]
            ],
            "type": "histogram2d"
           }
          ],
          "histogram2dcontour": [
           {
            "colorbar": {
             "outlinewidth": 0,
             "ticks": ""
            },
            "colorscale": [
             [
              0,
              "#0d0887"
             ],
             [
              0.1111111111111111,
              "#46039f"
             ],
             [
              0.2222222222222222,
              "#7201a8"
             ],
             [
              0.3333333333333333,
              "#9c179e"
             ],
             [
              0.4444444444444444,
              "#bd3786"
             ],
             [
              0.5555555555555556,
              "#d8576b"
             ],
             [
              0.6666666666666666,
              "#ed7953"
             ],
             [
              0.7777777777777778,
              "#fb9f3a"
             ],
             [
              0.8888888888888888,
              "#fdca26"
             ],
             [
              1,
              "#f0f921"
             ]
            ],
            "type": "histogram2dcontour"
           }
          ],
          "mesh3d": [
           {
            "colorbar": {
             "outlinewidth": 0,
             "ticks": ""
            },
            "type": "mesh3d"
           }
          ],
          "parcoords": [
           {
            "line": {
             "colorbar": {
              "outlinewidth": 0,
              "ticks": ""
             }
            },
            "type": "parcoords"
           }
          ],
          "pie": [
           {
            "automargin": true,
            "type": "pie"
           }
          ],
          "scatter": [
           {
            "fillpattern": {
             "fillmode": "overlay",
             "size": 10,
             "solidity": 0.2
            },
            "type": "scatter"
           }
          ],
          "scatter3d": [
           {
            "line": {
             "colorbar": {
              "outlinewidth": 0,
              "ticks": ""
             }
            },
            "marker": {
             "colorbar": {
              "outlinewidth": 0,
              "ticks": ""
             }
            },
            "type": "scatter3d"
           }
          ],
          "scattercarpet": [
           {
            "marker": {
             "colorbar": {
              "outlinewidth": 0,
              "ticks": ""
             }
            },
            "type": "scattercarpet"
           }
          ],
          "scattergeo": [
           {
            "marker": {
             "colorbar": {
              "outlinewidth": 0,
              "ticks": ""
             }
            },
            "type": "scattergeo"
           }
          ],
          "scattergl": [
           {
            "marker": {
             "colorbar": {
              "outlinewidth": 0,
              "ticks": ""
             }
            },
            "type": "scattergl"
           }
          ],
          "scattermap": [
           {
            "marker": {
             "colorbar": {
              "outlinewidth": 0,
              "ticks": ""
             }
            },
            "type": "scattermap"
           }
          ],
          "scattermapbox": [
           {
            "marker": {
             "colorbar": {
              "outlinewidth": 0,
              "ticks": ""
             }
            },
            "type": "scattermapbox"
           }
          ],
          "scatterpolar": [
           {
            "marker": {
             "colorbar": {
              "outlinewidth": 0,
              "ticks": ""
             }
            },
            "type": "scatterpolar"
           }
          ],
          "scatterpolargl": [
           {
            "marker": {
             "colorbar": {
              "outlinewidth": 0,
              "ticks": ""
             }
            },
            "type": "scatterpolargl"
           }
          ],
          "scatterternary": [
           {
            "marker": {
             "colorbar": {
              "outlinewidth": 0,
              "ticks": ""
             }
            },
            "type": "scatterternary"
           }
          ],
          "surface": [
           {
            "colorbar": {
             "outlinewidth": 0,
             "ticks": ""
            },
            "colorscale": [
             [
              0,
              "#0d0887"
             ],
             [
              0.1111111111111111,
              "#46039f"
             ],
             [
              0.2222222222222222,
              "#7201a8"
             ],
             [
              0.3333333333333333,
              "#9c179e"
             ],
             [
              0.4444444444444444,
              "#bd3786"
             ],
             [
              0.5555555555555556,
              "#d8576b"
             ],
             [
              0.6666666666666666,
              "#ed7953"
             ],
             [
              0.7777777777777778,
              "#fb9f3a"
             ],
             [
              0.8888888888888888,
              "#fdca26"
             ],
             [
              1,
              "#f0f921"
             ]
            ],
            "type": "surface"
           }
          ],
          "table": [
           {
            "cells": {
             "fill": {
              "color": "#EBF0F8"
             },
             "line": {
              "color": "white"
             }
            },
            "header": {
             "fill": {
              "color": "#C8D4E3"
             },
             "line": {
              "color": "white"
             }
            },
            "type": "table"
           }
          ]
         },
         "layout": {
          "annotationdefaults": {
           "arrowcolor": "#2a3f5f",
           "arrowhead": 0,
           "arrowwidth": 1
          },
          "autotypenumbers": "strict",
          "coloraxis": {
           "colorbar": {
            "outlinewidth": 0,
            "ticks": ""
           }
          },
          "colorscale": {
           "diverging": [
            [
             0,
             "#8e0152"
            ],
            [
             0.1,
             "#c51b7d"
            ],
            [
             0.2,
             "#de77ae"
            ],
            [
             0.3,
             "#f1b6da"
            ],
            [
             0.4,
             "#fde0ef"
            ],
            [
             0.5,
             "#f7f7f7"
            ],
            [
             0.6,
             "#e6f5d0"
            ],
            [
             0.7,
             "#b8e186"
            ],
            [
             0.8,
             "#7fbc41"
            ],
            [
             0.9,
             "#4d9221"
            ],
            [
             1,
             "#276419"
            ]
           ],
           "sequential": [
            [
             0,
             "#0d0887"
            ],
            [
             0.1111111111111111,
             "#46039f"
            ],
            [
             0.2222222222222222,
             "#7201a8"
            ],
            [
             0.3333333333333333,
             "#9c179e"
            ],
            [
             0.4444444444444444,
             "#bd3786"
            ],
            [
             0.5555555555555556,
             "#d8576b"
            ],
            [
             0.6666666666666666,
             "#ed7953"
            ],
            [
             0.7777777777777778,
             "#fb9f3a"
            ],
            [
             0.8888888888888888,
             "#fdca26"
            ],
            [
             1,
             "#f0f921"
            ]
           ],
           "sequentialminus": [
            [
             0,
             "#0d0887"
            ],
            [
             0.1111111111111111,
             "#46039f"
            ],
            [
             0.2222222222222222,
             "#7201a8"
            ],
            [
             0.3333333333333333,
             "#9c179e"
            ],
            [
             0.4444444444444444,
             "#bd3786"
            ],
            [
             0.5555555555555556,
             "#d8576b"
            ],
            [
             0.6666666666666666,
             "#ed7953"
            ],
            [
             0.7777777777777778,
             "#fb9f3a"
            ],
            [
             0.8888888888888888,
             "#fdca26"
            ],
            [
             1,
             "#f0f921"
            ]
           ]
          },
          "colorway": [
           "#636efa",
           "#EF553B",
           "#00cc96",
           "#ab63fa",
           "#FFA15A",
           "#19d3f3",
           "#FF6692",
           "#B6E880",
           "#FF97FF",
           "#FECB52"
          ],
          "font": {
           "color": "#2a3f5f"
          },
          "geo": {
           "bgcolor": "white",
           "lakecolor": "white",
           "landcolor": "#E5ECF6",
           "showlakes": true,
           "showland": true,
           "subunitcolor": "white"
          },
          "hoverlabel": {
           "align": "left"
          },
          "hovermode": "closest",
          "mapbox": {
           "style": "light"
          },
          "paper_bgcolor": "white",
          "plot_bgcolor": "#E5ECF6",
          "polar": {
           "angularaxis": {
            "gridcolor": "white",
            "linecolor": "white",
            "ticks": ""
           },
           "bgcolor": "#E5ECF6",
           "radialaxis": {
            "gridcolor": "white",
            "linecolor": "white",
            "ticks": ""
           }
          },
          "scene": {
           "xaxis": {
            "backgroundcolor": "#E5ECF6",
            "gridcolor": "white",
            "gridwidth": 2,
            "linecolor": "white",
            "showbackground": true,
            "ticks": "",
            "zerolinecolor": "white"
           },
           "yaxis": {
            "backgroundcolor": "#E5ECF6",
            "gridcolor": "white",
            "gridwidth": 2,
            "linecolor": "white",
            "showbackground": true,
            "ticks": "",
            "zerolinecolor": "white"
           },
           "zaxis": {
            "backgroundcolor": "#E5ECF6",
            "gridcolor": "white",
            "gridwidth": 2,
            "linecolor": "white",
            "showbackground": true,
            "ticks": "",
            "zerolinecolor": "white"
           }
          },
          "shapedefaults": {
           "line": {
            "color": "#2a3f5f"
           }
          },
          "ternary": {
           "aaxis": {
            "gridcolor": "white",
            "linecolor": "white",
            "ticks": ""
           },
           "baxis": {
            "gridcolor": "white",
            "linecolor": "white",
            "ticks": ""
           },
           "bgcolor": "#E5ECF6",
           "caxis": {
            "gridcolor": "white",
            "linecolor": "white",
            "ticks": ""
           }
          },
          "title": {
           "x": 0.05
          },
          "xaxis": {
           "automargin": true,
           "gridcolor": "white",
           "linecolor": "white",
           "ticks": "",
           "title": {
            "standoff": 15
           },
           "zerolinecolor": "white",
           "zerolinewidth": 2
          },
          "yaxis": {
           "automargin": true,
           "gridcolor": "white",
           "linecolor": "white",
           "ticks": "",
           "title": {
            "standoff": 15
           },
           "zerolinecolor": "white",
           "zerolinewidth": 2
          }
         }
        },
        "title": {
         "text": "Proporsi Sentimen Pegawai berdasarkan Status"
        },
        "xaxis": {
         "anchor": "y",
         "domain": [
          0,
          1
         ],
         "title": {
          "text": "Status Pegawai"
         }
        },
        "yaxis": {
         "anchor": "x",
         "domain": [
          0,
          1
         ],
         "tickformat": ".0%",
         "title": {
          "text": "Proporsi"
         }
        }
       }
      }
     },
     "metadata": {},
     "output_type": "display_data"
    }
   ],
   "source": [
    "import plotly.express as px\n",
    "total_perstatus = sentimen_status.groupby('Status')['Jumlah'].transform('sum')\n",
    "\n",
    "sentimen_status['Proporsi'] = sentimen_status['Jumlah'] / total_perstatus\n",
    "\n",
    "fig = px.bar(sentimen_status,\n",
    "             x='Status',\n",
    "             y='Proporsi',\n",
    "             color='Sentimen',\n",
    "             barmode='stack',\n",
    "             title='Proporsi Sentimen Pegawai berdasarkan Status',\n",
    "             text=sentimen_status['Proporsi'].apply(lambda x: f'{x:.1%}'))\n",
    "\n",
    "fig.update_layout(\n",
    "  yaxis_title='Proporsi',\n",
    "  yaxis_tickformat='.0%',\n",
    "  xaxis_title='Status Pegawai'\n",
    ")"
   ]
  },
  {
   "cell_type": "code",
   "execution_count": 32,
   "id": "f1a79b95",
   "metadata": {},
   "outputs": [
    {
     "name": "stdout",
     "output_type": "stream",
     "text": [
      "Collecting scikit-learn\n",
      "  Using cached scikit_learn-1.6.1-cp312-cp312-win_amd64.whl.metadata (15 kB)\n",
      "Requirement already satisfied: numpy>=1.19.5 in d:\\rezaproject\\portofolio\\hr-data-dashboard\\myenv\\lib\\site-packages (from scikit-learn) (2.2.5)\n",
      "Collecting scipy>=1.6.0 (from scikit-learn)\n",
      "  Using cached scipy-1.15.2-cp312-cp312-win_amd64.whl.metadata (60 kB)\n",
      "Requirement already satisfied: joblib>=1.2.0 in d:\\rezaproject\\portofolio\\hr-data-dashboard\\myenv\\lib\\site-packages (from scikit-learn) (1.5.0)\n",
      "Collecting threadpoolctl>=3.1.0 (from scikit-learn)\n",
      "  Downloading threadpoolctl-3.6.0-py3-none-any.whl.metadata (13 kB)\n",
      "Using cached scikit_learn-1.6.1-cp312-cp312-win_amd64.whl (11.1 MB)\n",
      "Using cached scipy-1.15.2-cp312-cp312-win_amd64.whl (40.9 MB)\n",
      "Downloading threadpoolctl-3.6.0-py3-none-any.whl (18 kB)\n",
      "Installing collected packages: threadpoolctl, scipy, scikit-learn\n",
      "Successfully installed scikit-learn-1.6.1 scipy-1.15.2 threadpoolctl-3.6.0\n"
     ]
    },
    {
     "name": "stderr",
     "output_type": "stream",
     "text": [
      "\n",
      "[notice] A new release of pip is available: 25.0.1 -> 25.1.1\n",
      "[notice] To update, run: python.exe -m pip install --upgrade pip\n"
     ]
    }
   ],
   "source": [
    "!pip install scikit-learn"
   ]
  },
  {
   "cell_type": "markdown",
   "id": "946d885f",
   "metadata": {},
   "source": [
    "### Pembuatan MODEL"
   ]
  },
  {
   "cell_type": "code",
   "execution_count": 44,
   "id": "85baef5a",
   "metadata": {},
   "outputs": [],
   "source": [
    "from sklearn.model_selection import train_test_split\n",
    "from sklearn.linear_model import LogisticRegression\n",
    "from sklearn.metrics import classification_report, confusion_matrix, accuracy_score\n",
    "#df_new.head()\n",
    "df_model = df_new[['Jabatan','Performance (1-5)','Jumlah Promosi','Sentimen_num','Status_num']].copy()\n",
    "\n",
    "df_model = pd.get_dummies(df_model, columns=['Jabatan'], drop_first=True)\n",
    "\n",
    "X = df_model.drop('Status_num',axis=1)\n",
    "y = df_model['Status_num']"
   ]
  },
  {
   "cell_type": "code",
   "execution_count": 45,
   "id": "e3767575",
   "metadata": {},
   "outputs": [],
   "source": [
    "X_train, X_test, y_train, y_test = train_test_split(X,y, test_size=0.2, random_state=42)"
   ]
  },
  {
   "cell_type": "code",
   "execution_count": 46,
   "id": "da0c8dc2",
   "metadata": {},
   "outputs": [
    {
     "data": {
      "text/html": [
       "<style>#sk-container-id-2 {\n",
       "  /* Definition of color scheme common for light and dark mode */\n",
       "  --sklearn-color-text: #000;\n",
       "  --sklearn-color-text-muted: #666;\n",
       "  --sklearn-color-line: gray;\n",
       "  /* Definition of color scheme for unfitted estimators */\n",
       "  --sklearn-color-unfitted-level-0: #fff5e6;\n",
       "  --sklearn-color-unfitted-level-1: #f6e4d2;\n",
       "  --sklearn-color-unfitted-level-2: #ffe0b3;\n",
       "  --sklearn-color-unfitted-level-3: chocolate;\n",
       "  /* Definition of color scheme for fitted estimators */\n",
       "  --sklearn-color-fitted-level-0: #f0f8ff;\n",
       "  --sklearn-color-fitted-level-1: #d4ebff;\n",
       "  --sklearn-color-fitted-level-2: #b3dbfd;\n",
       "  --sklearn-color-fitted-level-3: cornflowerblue;\n",
       "\n",
       "  /* Specific color for light theme */\n",
       "  --sklearn-color-text-on-default-background: var(--sg-text-color, var(--theme-code-foreground, var(--jp-content-font-color1, black)));\n",
       "  --sklearn-color-background: var(--sg-background-color, var(--theme-background, var(--jp-layout-color0, white)));\n",
       "  --sklearn-color-border-box: var(--sg-text-color, var(--theme-code-foreground, var(--jp-content-font-color1, black)));\n",
       "  --sklearn-color-icon: #696969;\n",
       "\n",
       "  @media (prefers-color-scheme: dark) {\n",
       "    /* Redefinition of color scheme for dark theme */\n",
       "    --sklearn-color-text-on-default-background: var(--sg-text-color, var(--theme-code-foreground, var(--jp-content-font-color1, white)));\n",
       "    --sklearn-color-background: var(--sg-background-color, var(--theme-background, var(--jp-layout-color0, #111)));\n",
       "    --sklearn-color-border-box: var(--sg-text-color, var(--theme-code-foreground, var(--jp-content-font-color1, white)));\n",
       "    --sklearn-color-icon: #878787;\n",
       "  }\n",
       "}\n",
       "\n",
       "#sk-container-id-2 {\n",
       "  color: var(--sklearn-color-text);\n",
       "}\n",
       "\n",
       "#sk-container-id-2 pre {\n",
       "  padding: 0;\n",
       "}\n",
       "\n",
       "#sk-container-id-2 input.sk-hidden--visually {\n",
       "  border: 0;\n",
       "  clip: rect(1px 1px 1px 1px);\n",
       "  clip: rect(1px, 1px, 1px, 1px);\n",
       "  height: 1px;\n",
       "  margin: -1px;\n",
       "  overflow: hidden;\n",
       "  padding: 0;\n",
       "  position: absolute;\n",
       "  width: 1px;\n",
       "}\n",
       "\n",
       "#sk-container-id-2 div.sk-dashed-wrapped {\n",
       "  border: 1px dashed var(--sklearn-color-line);\n",
       "  margin: 0 0.4em 0.5em 0.4em;\n",
       "  box-sizing: border-box;\n",
       "  padding-bottom: 0.4em;\n",
       "  background-color: var(--sklearn-color-background);\n",
       "}\n",
       "\n",
       "#sk-container-id-2 div.sk-container {\n",
       "  /* jupyter's `normalize.less` sets `[hidden] { display: none; }`\n",
       "     but bootstrap.min.css set `[hidden] { display: none !important; }`\n",
       "     so we also need the `!important` here to be able to override the\n",
       "     default hidden behavior on the sphinx rendered scikit-learn.org.\n",
       "     See: https://github.com/scikit-learn/scikit-learn/issues/21755 */\n",
       "  display: inline-block !important;\n",
       "  position: relative;\n",
       "}\n",
       "\n",
       "#sk-container-id-2 div.sk-text-repr-fallback {\n",
       "  display: none;\n",
       "}\n",
       "\n",
       "div.sk-parallel-item,\n",
       "div.sk-serial,\n",
       "div.sk-item {\n",
       "  /* draw centered vertical line to link estimators */\n",
       "  background-image: linear-gradient(var(--sklearn-color-text-on-default-background), var(--sklearn-color-text-on-default-background));\n",
       "  background-size: 2px 100%;\n",
       "  background-repeat: no-repeat;\n",
       "  background-position: center center;\n",
       "}\n",
       "\n",
       "/* Parallel-specific style estimator block */\n",
       "\n",
       "#sk-container-id-2 div.sk-parallel-item::after {\n",
       "  content: \"\";\n",
       "  width: 100%;\n",
       "  border-bottom: 2px solid var(--sklearn-color-text-on-default-background);\n",
       "  flex-grow: 1;\n",
       "}\n",
       "\n",
       "#sk-container-id-2 div.sk-parallel {\n",
       "  display: flex;\n",
       "  align-items: stretch;\n",
       "  justify-content: center;\n",
       "  background-color: var(--sklearn-color-background);\n",
       "  position: relative;\n",
       "}\n",
       "\n",
       "#sk-container-id-2 div.sk-parallel-item {\n",
       "  display: flex;\n",
       "  flex-direction: column;\n",
       "}\n",
       "\n",
       "#sk-container-id-2 div.sk-parallel-item:first-child::after {\n",
       "  align-self: flex-end;\n",
       "  width: 50%;\n",
       "}\n",
       "\n",
       "#sk-container-id-2 div.sk-parallel-item:last-child::after {\n",
       "  align-self: flex-start;\n",
       "  width: 50%;\n",
       "}\n",
       "\n",
       "#sk-container-id-2 div.sk-parallel-item:only-child::after {\n",
       "  width: 0;\n",
       "}\n",
       "\n",
       "/* Serial-specific style estimator block */\n",
       "\n",
       "#sk-container-id-2 div.sk-serial {\n",
       "  display: flex;\n",
       "  flex-direction: column;\n",
       "  align-items: center;\n",
       "  background-color: var(--sklearn-color-background);\n",
       "  padding-right: 1em;\n",
       "  padding-left: 1em;\n",
       "}\n",
       "\n",
       "\n",
       "/* Toggleable style: style used for estimator/Pipeline/ColumnTransformer box that is\n",
       "clickable and can be expanded/collapsed.\n",
       "- Pipeline and ColumnTransformer use this feature and define the default style\n",
       "- Estimators will overwrite some part of the style using the `sk-estimator` class\n",
       "*/\n",
       "\n",
       "/* Pipeline and ColumnTransformer style (default) */\n",
       "\n",
       "#sk-container-id-2 div.sk-toggleable {\n",
       "  /* Default theme specific background. It is overwritten whether we have a\n",
       "  specific estimator or a Pipeline/ColumnTransformer */\n",
       "  background-color: var(--sklearn-color-background);\n",
       "}\n",
       "\n",
       "/* Toggleable label */\n",
       "#sk-container-id-2 label.sk-toggleable__label {\n",
       "  cursor: pointer;\n",
       "  display: flex;\n",
       "  width: 100%;\n",
       "  margin-bottom: 0;\n",
       "  padding: 0.5em;\n",
       "  box-sizing: border-box;\n",
       "  text-align: center;\n",
       "  align-items: start;\n",
       "  justify-content: space-between;\n",
       "  gap: 0.5em;\n",
       "}\n",
       "\n",
       "#sk-container-id-2 label.sk-toggleable__label .caption {\n",
       "  font-size: 0.6rem;\n",
       "  font-weight: lighter;\n",
       "  color: var(--sklearn-color-text-muted);\n",
       "}\n",
       "\n",
       "#sk-container-id-2 label.sk-toggleable__label-arrow:before {\n",
       "  /* Arrow on the left of the label */\n",
       "  content: \"▸\";\n",
       "  float: left;\n",
       "  margin-right: 0.25em;\n",
       "  color: var(--sklearn-color-icon);\n",
       "}\n",
       "\n",
       "#sk-container-id-2 label.sk-toggleable__label-arrow:hover:before {\n",
       "  color: var(--sklearn-color-text);\n",
       "}\n",
       "\n",
       "/* Toggleable content - dropdown */\n",
       "\n",
       "#sk-container-id-2 div.sk-toggleable__content {\n",
       "  max-height: 0;\n",
       "  max-width: 0;\n",
       "  overflow: hidden;\n",
       "  text-align: left;\n",
       "  /* unfitted */\n",
       "  background-color: var(--sklearn-color-unfitted-level-0);\n",
       "}\n",
       "\n",
       "#sk-container-id-2 div.sk-toggleable__content.fitted {\n",
       "  /* fitted */\n",
       "  background-color: var(--sklearn-color-fitted-level-0);\n",
       "}\n",
       "\n",
       "#sk-container-id-2 div.sk-toggleable__content pre {\n",
       "  margin: 0.2em;\n",
       "  border-radius: 0.25em;\n",
       "  color: var(--sklearn-color-text);\n",
       "  /* unfitted */\n",
       "  background-color: var(--sklearn-color-unfitted-level-0);\n",
       "}\n",
       "\n",
       "#sk-container-id-2 div.sk-toggleable__content.fitted pre {\n",
       "  /* unfitted */\n",
       "  background-color: var(--sklearn-color-fitted-level-0);\n",
       "}\n",
       "\n",
       "#sk-container-id-2 input.sk-toggleable__control:checked~div.sk-toggleable__content {\n",
       "  /* Expand drop-down */\n",
       "  max-height: 200px;\n",
       "  max-width: 100%;\n",
       "  overflow: auto;\n",
       "}\n",
       "\n",
       "#sk-container-id-2 input.sk-toggleable__control:checked~label.sk-toggleable__label-arrow:before {\n",
       "  content: \"▾\";\n",
       "}\n",
       "\n",
       "/* Pipeline/ColumnTransformer-specific style */\n",
       "\n",
       "#sk-container-id-2 div.sk-label input.sk-toggleable__control:checked~label.sk-toggleable__label {\n",
       "  color: var(--sklearn-color-text);\n",
       "  background-color: var(--sklearn-color-unfitted-level-2);\n",
       "}\n",
       "\n",
       "#sk-container-id-2 div.sk-label.fitted input.sk-toggleable__control:checked~label.sk-toggleable__label {\n",
       "  background-color: var(--sklearn-color-fitted-level-2);\n",
       "}\n",
       "\n",
       "/* Estimator-specific style */\n",
       "\n",
       "/* Colorize estimator box */\n",
       "#sk-container-id-2 div.sk-estimator input.sk-toggleable__control:checked~label.sk-toggleable__label {\n",
       "  /* unfitted */\n",
       "  background-color: var(--sklearn-color-unfitted-level-2);\n",
       "}\n",
       "\n",
       "#sk-container-id-2 div.sk-estimator.fitted input.sk-toggleable__control:checked~label.sk-toggleable__label {\n",
       "  /* fitted */\n",
       "  background-color: var(--sklearn-color-fitted-level-2);\n",
       "}\n",
       "\n",
       "#sk-container-id-2 div.sk-label label.sk-toggleable__label,\n",
       "#sk-container-id-2 div.sk-label label {\n",
       "  /* The background is the default theme color */\n",
       "  color: var(--sklearn-color-text-on-default-background);\n",
       "}\n",
       "\n",
       "/* On hover, darken the color of the background */\n",
       "#sk-container-id-2 div.sk-label:hover label.sk-toggleable__label {\n",
       "  color: var(--sklearn-color-text);\n",
       "  background-color: var(--sklearn-color-unfitted-level-2);\n",
       "}\n",
       "\n",
       "/* Label box, darken color on hover, fitted */\n",
       "#sk-container-id-2 div.sk-label.fitted:hover label.sk-toggleable__label.fitted {\n",
       "  color: var(--sklearn-color-text);\n",
       "  background-color: var(--sklearn-color-fitted-level-2);\n",
       "}\n",
       "\n",
       "/* Estimator label */\n",
       "\n",
       "#sk-container-id-2 div.sk-label label {\n",
       "  font-family: monospace;\n",
       "  font-weight: bold;\n",
       "  display: inline-block;\n",
       "  line-height: 1.2em;\n",
       "}\n",
       "\n",
       "#sk-container-id-2 div.sk-label-container {\n",
       "  text-align: center;\n",
       "}\n",
       "\n",
       "/* Estimator-specific */\n",
       "#sk-container-id-2 div.sk-estimator {\n",
       "  font-family: monospace;\n",
       "  border: 1px dotted var(--sklearn-color-border-box);\n",
       "  border-radius: 0.25em;\n",
       "  box-sizing: border-box;\n",
       "  margin-bottom: 0.5em;\n",
       "  /* unfitted */\n",
       "  background-color: var(--sklearn-color-unfitted-level-0);\n",
       "}\n",
       "\n",
       "#sk-container-id-2 div.sk-estimator.fitted {\n",
       "  /* fitted */\n",
       "  background-color: var(--sklearn-color-fitted-level-0);\n",
       "}\n",
       "\n",
       "/* on hover */\n",
       "#sk-container-id-2 div.sk-estimator:hover {\n",
       "  /* unfitted */\n",
       "  background-color: var(--sklearn-color-unfitted-level-2);\n",
       "}\n",
       "\n",
       "#sk-container-id-2 div.sk-estimator.fitted:hover {\n",
       "  /* fitted */\n",
       "  background-color: var(--sklearn-color-fitted-level-2);\n",
       "}\n",
       "\n",
       "/* Specification for estimator info (e.g. \"i\" and \"?\") */\n",
       "\n",
       "/* Common style for \"i\" and \"?\" */\n",
       "\n",
       ".sk-estimator-doc-link,\n",
       "a:link.sk-estimator-doc-link,\n",
       "a:visited.sk-estimator-doc-link {\n",
       "  float: right;\n",
       "  font-size: smaller;\n",
       "  line-height: 1em;\n",
       "  font-family: monospace;\n",
       "  background-color: var(--sklearn-color-background);\n",
       "  border-radius: 1em;\n",
       "  height: 1em;\n",
       "  width: 1em;\n",
       "  text-decoration: none !important;\n",
       "  margin-left: 0.5em;\n",
       "  text-align: center;\n",
       "  /* unfitted */\n",
       "  border: var(--sklearn-color-unfitted-level-1) 1pt solid;\n",
       "  color: var(--sklearn-color-unfitted-level-1);\n",
       "}\n",
       "\n",
       ".sk-estimator-doc-link.fitted,\n",
       "a:link.sk-estimator-doc-link.fitted,\n",
       "a:visited.sk-estimator-doc-link.fitted {\n",
       "  /* fitted */\n",
       "  border: var(--sklearn-color-fitted-level-1) 1pt solid;\n",
       "  color: var(--sklearn-color-fitted-level-1);\n",
       "}\n",
       "\n",
       "/* On hover */\n",
       "div.sk-estimator:hover .sk-estimator-doc-link:hover,\n",
       ".sk-estimator-doc-link:hover,\n",
       "div.sk-label-container:hover .sk-estimator-doc-link:hover,\n",
       ".sk-estimator-doc-link:hover {\n",
       "  /* unfitted */\n",
       "  background-color: var(--sklearn-color-unfitted-level-3);\n",
       "  color: var(--sklearn-color-background);\n",
       "  text-decoration: none;\n",
       "}\n",
       "\n",
       "div.sk-estimator.fitted:hover .sk-estimator-doc-link.fitted:hover,\n",
       ".sk-estimator-doc-link.fitted:hover,\n",
       "div.sk-label-container:hover .sk-estimator-doc-link.fitted:hover,\n",
       ".sk-estimator-doc-link.fitted:hover {\n",
       "  /* fitted */\n",
       "  background-color: var(--sklearn-color-fitted-level-3);\n",
       "  color: var(--sklearn-color-background);\n",
       "  text-decoration: none;\n",
       "}\n",
       "\n",
       "/* Span, style for the box shown on hovering the info icon */\n",
       ".sk-estimator-doc-link span {\n",
       "  display: none;\n",
       "  z-index: 9999;\n",
       "  position: relative;\n",
       "  font-weight: normal;\n",
       "  right: .2ex;\n",
       "  padding: .5ex;\n",
       "  margin: .5ex;\n",
       "  width: min-content;\n",
       "  min-width: 20ex;\n",
       "  max-width: 50ex;\n",
       "  color: var(--sklearn-color-text);\n",
       "  box-shadow: 2pt 2pt 4pt #999;\n",
       "  /* unfitted */\n",
       "  background: var(--sklearn-color-unfitted-level-0);\n",
       "  border: .5pt solid var(--sklearn-color-unfitted-level-3);\n",
       "}\n",
       "\n",
       ".sk-estimator-doc-link.fitted span {\n",
       "  /* fitted */\n",
       "  background: var(--sklearn-color-fitted-level-0);\n",
       "  border: var(--sklearn-color-fitted-level-3);\n",
       "}\n",
       "\n",
       ".sk-estimator-doc-link:hover span {\n",
       "  display: block;\n",
       "}\n",
       "\n",
       "/* \"?\"-specific style due to the `<a>` HTML tag */\n",
       "\n",
       "#sk-container-id-2 a.estimator_doc_link {\n",
       "  float: right;\n",
       "  font-size: 1rem;\n",
       "  line-height: 1em;\n",
       "  font-family: monospace;\n",
       "  background-color: var(--sklearn-color-background);\n",
       "  border-radius: 1rem;\n",
       "  height: 1rem;\n",
       "  width: 1rem;\n",
       "  text-decoration: none;\n",
       "  /* unfitted */\n",
       "  color: var(--sklearn-color-unfitted-level-1);\n",
       "  border: var(--sklearn-color-unfitted-level-1) 1pt solid;\n",
       "}\n",
       "\n",
       "#sk-container-id-2 a.estimator_doc_link.fitted {\n",
       "  /* fitted */\n",
       "  border: var(--sklearn-color-fitted-level-1) 1pt solid;\n",
       "  color: var(--sklearn-color-fitted-level-1);\n",
       "}\n",
       "\n",
       "/* On hover */\n",
       "#sk-container-id-2 a.estimator_doc_link:hover {\n",
       "  /* unfitted */\n",
       "  background-color: var(--sklearn-color-unfitted-level-3);\n",
       "  color: var(--sklearn-color-background);\n",
       "  text-decoration: none;\n",
       "}\n",
       "\n",
       "#sk-container-id-2 a.estimator_doc_link.fitted:hover {\n",
       "  /* fitted */\n",
       "  background-color: var(--sklearn-color-fitted-level-3);\n",
       "}\n",
       "</style><div id=\"sk-container-id-2\" class=\"sk-top-container\"><div class=\"sk-text-repr-fallback\"><pre>LogisticRegression(max_iter=1000)</pre><b>In a Jupyter environment, please rerun this cell to show the HTML representation or trust the notebook. <br />On GitHub, the HTML representation is unable to render, please try loading this page with nbviewer.org.</b></div><div class=\"sk-container\" hidden><div class=\"sk-item\"><div class=\"sk-estimator fitted sk-toggleable\"><input class=\"sk-toggleable__control sk-hidden--visually\" id=\"sk-estimator-id-2\" type=\"checkbox\" checked><label for=\"sk-estimator-id-2\" class=\"sk-toggleable__label fitted sk-toggleable__label-arrow\"><div><div>LogisticRegression</div></div><div><a class=\"sk-estimator-doc-link fitted\" rel=\"noreferrer\" target=\"_blank\" href=\"https://scikit-learn.org/1.6/modules/generated/sklearn.linear_model.LogisticRegression.html\">?<span>Documentation for LogisticRegression</span></a><span class=\"sk-estimator-doc-link fitted\">i<span>Fitted</span></span></div></label><div class=\"sk-toggleable__content fitted\"><pre>LogisticRegression(max_iter=1000)</pre></div> </div></div></div></div>"
      ],
      "text/plain": [
       "LogisticRegression(max_iter=1000)"
      ]
     },
     "execution_count": 46,
     "metadata": {},
     "output_type": "execute_result"
    }
   ],
   "source": [
    "model = LogisticRegression(max_iter=1000)\n",
    "model.fit(X_train, y_train)"
   ]
  },
  {
   "cell_type": "code",
   "execution_count": 47,
   "id": "2de6c562",
   "metadata": {},
   "outputs": [
    {
     "name": "stdout",
     "output_type": "stream",
     "text": [
      "confusion matrix:\n",
      " [[15  0]\n",
      " [ 5  0]]\n",
      "\n",
      "Classification Report:\n",
      "               precision    recall  f1-score   support\n",
      "\n",
      "           0       0.75      1.00      0.86        15\n",
      "           1       0.00      0.00      0.00         5\n",
      "\n",
      "    accuracy                           0.75        20\n",
      "   macro avg       0.38      0.50      0.43        20\n",
      "weighted avg       0.56      0.75      0.64        20\n",
      "\n"
     ]
    },
    {
     "name": "stderr",
     "output_type": "stream",
     "text": [
      "d:\\REZAPROJECT\\portofolio\\hr-data-dashboard\\myenv\\Lib\\site-packages\\sklearn\\metrics\\_classification.py:1565: UndefinedMetricWarning:\n",
      "\n",
      "Precision is ill-defined and being set to 0.0 in labels with no predicted samples. Use `zero_division` parameter to control this behavior.\n",
      "\n",
      "d:\\REZAPROJECT\\portofolio\\hr-data-dashboard\\myenv\\Lib\\site-packages\\sklearn\\metrics\\_classification.py:1565: UndefinedMetricWarning:\n",
      "\n",
      "Precision is ill-defined and being set to 0.0 in labels with no predicted samples. Use `zero_division` parameter to control this behavior.\n",
      "\n",
      "d:\\REZAPROJECT\\portofolio\\hr-data-dashboard\\myenv\\Lib\\site-packages\\sklearn\\metrics\\_classification.py:1565: UndefinedMetricWarning:\n",
      "\n",
      "Precision is ill-defined and being set to 0.0 in labels with no predicted samples. Use `zero_division` parameter to control this behavior.\n",
      "\n"
     ]
    }
   ],
   "source": [
    "y_pred = model.predict(X_test)\n",
    "\n",
    "print(\"confusion matrix:\\n\", confusion_matrix(y_test, y_pred))\n",
    "print(\"\\nClassification Report:\\n\", classification_report(y_test, y_pred))"
   ]
  },
  {
   "cell_type": "code",
   "execution_count": 48,
   "id": "0ad0b6fe",
   "metadata": {},
   "outputs": [
    {
     "name": "stdout",
     "output_type": "stream",
     "text": [
      "Akurasi Model: 75.00%\n"
     ]
    }
   ],
   "source": [
    "accuracy = accuracy_score(y_test, y_pred)\n",
    "print(f\"Akurasi Model: {accuracy:.2%}\")"
   ]
  },
  {
   "cell_type": "code",
   "execution_count": null,
   "id": "5a3128a3",
   "metadata": {},
   "outputs": [],
   "source": []
  }
 ],
 "metadata": {
  "kernelspec": {
   "display_name": "myenv",
   "language": "python",
   "name": "python3"
  },
  "language_info": {
   "codemirror_mode": {
    "name": "ipython",
    "version": 3
   },
   "file_extension": ".py",
   "mimetype": "text/x-python",
   "name": "python",
   "nbconvert_exporter": "python",
   "pygments_lexer": "ipython3",
   "version": "3.12.10"
  }
 },
 "nbformat": 4,
 "nbformat_minor": 5
}
