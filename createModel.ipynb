{
 "cells": [
  {
   "cell_type": "code",
   "execution_count": null,
   "id": "dff7b32d",
   "metadata": {},
   "outputs": [
    {
     "ename": "",
     "evalue": "",
     "output_type": "error",
     "traceback": [
      "\u001b[1;31mFailed to start the Kernel. \n",
      "\u001b[1;31mUnable to start Kernel 'myenv (Python 3.12.10)' due to a timeout waiting for the ports to get used. \n",
      "\u001b[1;31mView Jupyter <a href='command:jupyter.viewOutput'>log</a> for further details."
     ]
    }
   ],
   "source": [
    "import pandas as pd\n",
    "\n",
    "df = pd.read_csv('data/data_pegawai_hr_project.csv')\n",
    "\n",
    "df.head()"
   ]
  },
  {
   "cell_type": "code",
   "execution_count": 4,
   "id": "f9b50cd2",
   "metadata": {},
   "outputs": [
    {
     "name": "stdout",
     "output_type": "stream",
     "text": [
      "Status\n",
      "Aktif     74\n",
      "Resign    26\n",
      "Name: count, dtype: int64\n"
     ]
    }
   ],
   "source": [
    "print(df['Status'].value_counts())"
   ]
  },
  {
   "cell_type": "code",
   "execution_count": 8,
   "id": "a6fc28d0",
   "metadata": {},
   "outputs": [
    {
     "name": "stdout",
     "output_type": "stream",
     "text": [
      "   Status  Status_num\n",
      "0   Aktif           0\n",
      "1   Aktif           0\n",
      "2   Aktif           0\n",
      "3   Aktif           0\n",
      "4  Resign           1\n"
     ]
    }
   ],
   "source": [
    "###mengubah kolom tanggal\n",
    "df['Tanggal Masuk'] = pd.to_datetime(df['Tanggal Masuk'])\n",
    "df['Tanggal Resign'] = pd.to_datetime(df['Tanggal Resign'], errors='coerce')\n",
    "\n",
    "\n",
    "### mengubah status menjadi 0 untuk aktif dan 1 untuk resign\n",
    "df['Status_num'] = df['Status'].map({'Aktif':0, 'Resign':1})\n",
    "\n",
    "### cek hasil\n",
    "print(df[['Status','Status_num']].head())"
   ]
  },
  {
   "cell_type": "code",
   "execution_count": 9,
   "id": "d7a1ca7b",
   "metadata": {},
   "outputs": [],
   "source": [
    "\n",
    "from deep_translator import GoogleTranslator\n",
    "from vaderSentiment.vaderSentiment import SentimentIntensityAnalyzer"
   ]
  },
  {
   "cell_type": "code",
   "execution_count": 10,
   "id": "bb068ca6",
   "metadata": {},
   "outputs": [],
   "source": [
    "analyzer = SentimentIntensityAnalyzer()\n",
    "\n",
    "def translate_feedback(text):\n",
    "  return GoogleTranslator(source='auto', target='en').translate(text)\n",
    "\n",
    "\n",
    "def get_vader_sentiment(feedback):\n",
    "  english_text = translate_feedback(feedback)\n",
    "  sentiment = analyzer.polarity_scores(english_text)\n",
    "  if sentiment['compound'] >= 0.05:\n",
    "    return 'Positif'\n",
    "  elif sentiment['compound'] <= -0.05:\n",
    "    return 'Negatif'\n",
    "  else:\n",
    "    return 'Netral'"
   ]
  },
  {
   "cell_type": "code",
   "execution_count": 11,
   "id": "499e7c3f",
   "metadata": {},
   "outputs": [],
   "source": [
    "df_cleaned = df[~df['Feedback'].str.match(r'^[.,\\s]*$')]"
   ]
  },
  {
   "cell_type": "code",
   "execution_count": 12,
   "id": "a7e44b37",
   "metadata": {},
   "outputs": [
    {
     "data": {
      "text/html": [
       "<div>\n",
       "<style scoped>\n",
       "    .dataframe tbody tr th:only-of-type {\n",
       "        vertical-align: middle;\n",
       "    }\n",
       "\n",
       "    .dataframe tbody tr th {\n",
       "        vertical-align: top;\n",
       "    }\n",
       "\n",
       "    .dataframe thead th {\n",
       "        text-align: right;\n",
       "    }\n",
       "</style>\n",
       "<table border=\"1\" class=\"dataframe\">\n",
       "  <thead>\n",
       "    <tr style=\"text-align: right;\">\n",
       "      <th></th>\n",
       "      <th>Nama Pegawai</th>\n",
       "      <th>Gender</th>\n",
       "      <th>Tanggal Masuk</th>\n",
       "      <th>Tanggal Resign</th>\n",
       "      <th>Status</th>\n",
       "      <th>Department</th>\n",
       "      <th>Jabatan</th>\n",
       "      <th>Performance (1-5)</th>\n",
       "      <th>Jumlah Promosi</th>\n",
       "      <th>Feedback</th>\n",
       "      <th>Status_num</th>\n",
       "    </tr>\n",
       "  </thead>\n",
       "  <tbody>\n",
       "    <tr>\n",
       "      <th>0</th>\n",
       "      <td>Steven Reid</td>\n",
       "      <td>Laki-laki</td>\n",
       "      <td>2023-07-05</td>\n",
       "      <td>NaT</td>\n",
       "      <td>Aktif</td>\n",
       "      <td>Finance</td>\n",
       "      <td>Senior Staff</td>\n",
       "      <td>1</td>\n",
       "      <td>2</td>\n",
       "      <td>Terlalu banyak tekanan kerja tanpa apresiasi.</td>\n",
       "      <td>0</td>\n",
       "    </tr>\n",
       "    <tr>\n",
       "      <th>1</th>\n",
       "      <td>Sandra Johnson</td>\n",
       "      <td>Laki-laki</td>\n",
       "      <td>2024-03-08</td>\n",
       "      <td>NaT</td>\n",
       "      <td>Aktif</td>\n",
       "      <td>HR</td>\n",
       "      <td>Senior Staff</td>\n",
       "      <td>1</td>\n",
       "      <td>0</td>\n",
       "      <td>Saya sangat senang bekerja di sini.</td>\n",
       "      <td>0</td>\n",
       "    </tr>\n",
       "    <tr>\n",
       "      <th>2</th>\n",
       "      <td>Cassandra Anderson</td>\n",
       "      <td>Perempuan</td>\n",
       "      <td>2023-08-12</td>\n",
       "      <td>NaT</td>\n",
       "      <td>Aktif</td>\n",
       "      <td>Finance</td>\n",
       "      <td>Manager</td>\n",
       "      <td>5</td>\n",
       "      <td>3</td>\n",
       "      <td>Terlalu banyak tekanan kerja tanpa apresiasi.</td>\n",
       "      <td>0</td>\n",
       "    </tr>\n",
       "    <tr>\n",
       "      <th>3</th>\n",
       "      <td>Nicholas Smith</td>\n",
       "      <td>Laki-laki</td>\n",
       "      <td>2020-12-01</td>\n",
       "      <td>NaT</td>\n",
       "      <td>Aktif</td>\n",
       "      <td>IT</td>\n",
       "      <td>Supervisor</td>\n",
       "      <td>2</td>\n",
       "      <td>3</td>\n",
       "      <td>Saya merasa dihargai atas kerja keras saya.</td>\n",
       "      <td>0</td>\n",
       "    </tr>\n",
       "    <tr>\n",
       "      <th>4</th>\n",
       "      <td>Jennifer Walton</td>\n",
       "      <td>Perempuan</td>\n",
       "      <td>2023-01-07</td>\n",
       "      <td>2024-04-05</td>\n",
       "      <td>Resign</td>\n",
       "      <td>IT</td>\n",
       "      <td>Supervisor</td>\n",
       "      <td>4</td>\n",
       "      <td>0</td>\n",
       "      <td>Lingkungan kerja tidak mendukung perkembangan.</td>\n",
       "      <td>1</td>\n",
       "    </tr>\n",
       "  </tbody>\n",
       "</table>\n",
       "</div>"
      ],
      "text/plain": [
       "         Nama Pegawai     Gender Tanggal Masuk Tanggal Resign  Status  \\\n",
       "0         Steven Reid  Laki-laki    2023-07-05            NaT   Aktif   \n",
       "1      Sandra Johnson  Laki-laki    2024-03-08            NaT   Aktif   \n",
       "2  Cassandra Anderson  Perempuan    2023-08-12            NaT   Aktif   \n",
       "3      Nicholas Smith  Laki-laki    2020-12-01            NaT   Aktif   \n",
       "4     Jennifer Walton  Perempuan    2023-01-07     2024-04-05  Resign   \n",
       "\n",
       "  Department       Jabatan  Performance (1-5)  Jumlah Promosi  \\\n",
       "0    Finance  Senior Staff                  1               2   \n",
       "1         HR  Senior Staff                  1               0   \n",
       "2    Finance       Manager                  5               3   \n",
       "3         IT    Supervisor                  2               3   \n",
       "4         IT    Supervisor                  4               0   \n",
       "\n",
       "                                         Feedback  Status_num  \n",
       "0   Terlalu banyak tekanan kerja tanpa apresiasi.           0  \n",
       "1             Saya sangat senang bekerja di sini.           0  \n",
       "2   Terlalu banyak tekanan kerja tanpa apresiasi.           0  \n",
       "3     Saya merasa dihargai atas kerja keras saya.           0  \n",
       "4  Lingkungan kerja tidak mendukung perkembangan.           1  "
      ]
     },
     "execution_count": 12,
     "metadata": {},
     "output_type": "execute_result"
    }
   ],
   "source": [
    "df_cleaned.head()"
   ]
  },
  {
   "cell_type": "code",
   "execution_count": 13,
   "id": "927b940e",
   "metadata": {},
   "outputs": [
    {
     "data": {
      "text/html": [
       "<div>\n",
       "<style scoped>\n",
       "    .dataframe tbody tr th:only-of-type {\n",
       "        vertical-align: middle;\n",
       "    }\n",
       "\n",
       "    .dataframe tbody tr th {\n",
       "        vertical-align: top;\n",
       "    }\n",
       "\n",
       "    .dataframe thead th {\n",
       "        text-align: right;\n",
       "    }\n",
       "</style>\n",
       "<table border=\"1\" class=\"dataframe\">\n",
       "  <thead>\n",
       "    <tr style=\"text-align: right;\">\n",
       "      <th></th>\n",
       "      <th>Nama Pegawai</th>\n",
       "      <th>Gender</th>\n",
       "      <th>Tanggal Masuk</th>\n",
       "      <th>Tanggal Resign</th>\n",
       "      <th>Status</th>\n",
       "      <th>Department</th>\n",
       "      <th>Jabatan</th>\n",
       "      <th>Performance (1-5)</th>\n",
       "      <th>Jumlah Promosi</th>\n",
       "      <th>Feedback</th>\n",
       "      <th>Status_num</th>\n",
       "      <th>Sentimen</th>\n",
       "    </tr>\n",
       "  </thead>\n",
       "  <tbody>\n",
       "    <tr>\n",
       "      <th>0</th>\n",
       "      <td>Steven Reid</td>\n",
       "      <td>Laki-laki</td>\n",
       "      <td>2023-07-05</td>\n",
       "      <td>NaT</td>\n",
       "      <td>Aktif</td>\n",
       "      <td>Finance</td>\n",
       "      <td>Senior Staff</td>\n",
       "      <td>1</td>\n",
       "      <td>2</td>\n",
       "      <td>Terlalu banyak tekanan kerja tanpa apresiasi.</td>\n",
       "      <td>0</td>\n",
       "      <td>Negatif</td>\n",
       "    </tr>\n",
       "    <tr>\n",
       "      <th>1</th>\n",
       "      <td>Sandra Johnson</td>\n",
       "      <td>Laki-laki</td>\n",
       "      <td>2024-03-08</td>\n",
       "      <td>NaT</td>\n",
       "      <td>Aktif</td>\n",
       "      <td>HR</td>\n",
       "      <td>Senior Staff</td>\n",
       "      <td>1</td>\n",
       "      <td>0</td>\n",
       "      <td>Saya sangat senang bekerja di sini.</td>\n",
       "      <td>0</td>\n",
       "      <td>Positif</td>\n",
       "    </tr>\n",
       "    <tr>\n",
       "      <th>2</th>\n",
       "      <td>Cassandra Anderson</td>\n",
       "      <td>Perempuan</td>\n",
       "      <td>2023-08-12</td>\n",
       "      <td>NaT</td>\n",
       "      <td>Aktif</td>\n",
       "      <td>Finance</td>\n",
       "      <td>Manager</td>\n",
       "      <td>5</td>\n",
       "      <td>3</td>\n",
       "      <td>Terlalu banyak tekanan kerja tanpa apresiasi.</td>\n",
       "      <td>0</td>\n",
       "      <td>Negatif</td>\n",
       "    </tr>\n",
       "    <tr>\n",
       "      <th>3</th>\n",
       "      <td>Nicholas Smith</td>\n",
       "      <td>Laki-laki</td>\n",
       "      <td>2020-12-01</td>\n",
       "      <td>NaT</td>\n",
       "      <td>Aktif</td>\n",
       "      <td>IT</td>\n",
       "      <td>Supervisor</td>\n",
       "      <td>2</td>\n",
       "      <td>3</td>\n",
       "      <td>Saya merasa dihargai atas kerja keras saya.</td>\n",
       "      <td>0</td>\n",
       "      <td>Positif</td>\n",
       "    </tr>\n",
       "    <tr>\n",
       "      <th>4</th>\n",
       "      <td>Jennifer Walton</td>\n",
       "      <td>Perempuan</td>\n",
       "      <td>2023-01-07</td>\n",
       "      <td>2024-04-05</td>\n",
       "      <td>Resign</td>\n",
       "      <td>IT</td>\n",
       "      <td>Supervisor</td>\n",
       "      <td>4</td>\n",
       "      <td>0</td>\n",
       "      <td>Lingkungan kerja tidak mendukung perkembangan.</td>\n",
       "      <td>1</td>\n",
       "      <td>Negatif</td>\n",
       "    </tr>\n",
       "  </tbody>\n",
       "</table>\n",
       "</div>"
      ],
      "text/plain": [
       "         Nama Pegawai     Gender Tanggal Masuk Tanggal Resign  Status  \\\n",
       "0         Steven Reid  Laki-laki    2023-07-05            NaT   Aktif   \n",
       "1      Sandra Johnson  Laki-laki    2024-03-08            NaT   Aktif   \n",
       "2  Cassandra Anderson  Perempuan    2023-08-12            NaT   Aktif   \n",
       "3      Nicholas Smith  Laki-laki    2020-12-01            NaT   Aktif   \n",
       "4     Jennifer Walton  Perempuan    2023-01-07     2024-04-05  Resign   \n",
       "\n",
       "  Department       Jabatan  Performance (1-5)  Jumlah Promosi  \\\n",
       "0    Finance  Senior Staff                  1               2   \n",
       "1         HR  Senior Staff                  1               0   \n",
       "2    Finance       Manager                  5               3   \n",
       "3         IT    Supervisor                  2               3   \n",
       "4         IT    Supervisor                  4               0   \n",
       "\n",
       "                                         Feedback  Status_num Sentimen  \n",
       "0   Terlalu banyak tekanan kerja tanpa apresiasi.           0  Negatif  \n",
       "1             Saya sangat senang bekerja di sini.           0  Positif  \n",
       "2   Terlalu banyak tekanan kerja tanpa apresiasi.           0  Negatif  \n",
       "3     Saya merasa dihargai atas kerja keras saya.           0  Positif  \n",
       "4  Lingkungan kerja tidak mendukung perkembangan.           1  Negatif  "
      ]
     },
     "execution_count": 13,
     "metadata": {},
     "output_type": "execute_result"
    }
   ],
   "source": [
    "df_cleaned['Sentimen'] = df_cleaned['Feedback'].apply(get_vader_sentiment)\n",
    "df_cleaned.head()"
   ]
  },
  {
   "cell_type": "code",
   "execution_count": 15,
   "id": "b811474b",
   "metadata": {},
   "outputs": [],
   "source": [
    "### mengubah sentimen menjadi 0 untuk Positif dan 1 untuk Negatif\n",
    "df_cleaned['Sentimen_num'] = df_cleaned['Sentimen'].map({'Positif':0, 'Negatif':1})"
   ]
  },
  {
   "cell_type": "code",
   "execution_count": 16,
   "id": "a516d6e1",
   "metadata": {},
   "outputs": [
    {
     "data": {
      "text/html": [
       "<div>\n",
       "<style scoped>\n",
       "    .dataframe tbody tr th:only-of-type {\n",
       "        vertical-align: middle;\n",
       "    }\n",
       "\n",
       "    .dataframe tbody tr th {\n",
       "        vertical-align: top;\n",
       "    }\n",
       "\n",
       "    .dataframe thead th {\n",
       "        text-align: right;\n",
       "    }\n",
       "</style>\n",
       "<table border=\"1\" class=\"dataframe\">\n",
       "  <thead>\n",
       "    <tr style=\"text-align: right;\">\n",
       "      <th></th>\n",
       "      <th>Nama Pegawai</th>\n",
       "      <th>Gender</th>\n",
       "      <th>Tanggal Masuk</th>\n",
       "      <th>Tanggal Resign</th>\n",
       "      <th>Status</th>\n",
       "      <th>Department</th>\n",
       "      <th>Jabatan</th>\n",
       "      <th>Performance (1-5)</th>\n",
       "      <th>Jumlah Promosi</th>\n",
       "      <th>Feedback</th>\n",
       "      <th>Status_num</th>\n",
       "      <th>Sentimen</th>\n",
       "      <th>Sentimen_num</th>\n",
       "    </tr>\n",
       "  </thead>\n",
       "  <tbody>\n",
       "    <tr>\n",
       "      <th>0</th>\n",
       "      <td>Steven Reid</td>\n",
       "      <td>Laki-laki</td>\n",
       "      <td>2023-07-05</td>\n",
       "      <td>NaT</td>\n",
       "      <td>Aktif</td>\n",
       "      <td>Finance</td>\n",
       "      <td>Senior Staff</td>\n",
       "      <td>1</td>\n",
       "      <td>2</td>\n",
       "      <td>Terlalu banyak tekanan kerja tanpa apresiasi.</td>\n",
       "      <td>0</td>\n",
       "      <td>Negatif</td>\n",
       "      <td>1</td>\n",
       "    </tr>\n",
       "    <tr>\n",
       "      <th>1</th>\n",
       "      <td>Sandra Johnson</td>\n",
       "      <td>Laki-laki</td>\n",
       "      <td>2024-03-08</td>\n",
       "      <td>NaT</td>\n",
       "      <td>Aktif</td>\n",
       "      <td>HR</td>\n",
       "      <td>Senior Staff</td>\n",
       "      <td>1</td>\n",
       "      <td>0</td>\n",
       "      <td>Saya sangat senang bekerja di sini.</td>\n",
       "      <td>0</td>\n",
       "      <td>Positif</td>\n",
       "      <td>0</td>\n",
       "    </tr>\n",
       "    <tr>\n",
       "      <th>2</th>\n",
       "      <td>Cassandra Anderson</td>\n",
       "      <td>Perempuan</td>\n",
       "      <td>2023-08-12</td>\n",
       "      <td>NaT</td>\n",
       "      <td>Aktif</td>\n",
       "      <td>Finance</td>\n",
       "      <td>Manager</td>\n",
       "      <td>5</td>\n",
       "      <td>3</td>\n",
       "      <td>Terlalu banyak tekanan kerja tanpa apresiasi.</td>\n",
       "      <td>0</td>\n",
       "      <td>Negatif</td>\n",
       "      <td>1</td>\n",
       "    </tr>\n",
       "    <tr>\n",
       "      <th>3</th>\n",
       "      <td>Nicholas Smith</td>\n",
       "      <td>Laki-laki</td>\n",
       "      <td>2020-12-01</td>\n",
       "      <td>NaT</td>\n",
       "      <td>Aktif</td>\n",
       "      <td>IT</td>\n",
       "      <td>Supervisor</td>\n",
       "      <td>2</td>\n",
       "      <td>3</td>\n",
       "      <td>Saya merasa dihargai atas kerja keras saya.</td>\n",
       "      <td>0</td>\n",
       "      <td>Positif</td>\n",
       "      <td>0</td>\n",
       "    </tr>\n",
       "    <tr>\n",
       "      <th>4</th>\n",
       "      <td>Jennifer Walton</td>\n",
       "      <td>Perempuan</td>\n",
       "      <td>2023-01-07</td>\n",
       "      <td>2024-04-05</td>\n",
       "      <td>Resign</td>\n",
       "      <td>IT</td>\n",
       "      <td>Supervisor</td>\n",
       "      <td>4</td>\n",
       "      <td>0</td>\n",
       "      <td>Lingkungan kerja tidak mendukung perkembangan.</td>\n",
       "      <td>1</td>\n",
       "      <td>Negatif</td>\n",
       "      <td>1</td>\n",
       "    </tr>\n",
       "  </tbody>\n",
       "</table>\n",
       "</div>"
      ],
      "text/plain": [
       "         Nama Pegawai     Gender Tanggal Masuk Tanggal Resign  Status  \\\n",
       "0         Steven Reid  Laki-laki    2023-07-05            NaT   Aktif   \n",
       "1      Sandra Johnson  Laki-laki    2024-03-08            NaT   Aktif   \n",
       "2  Cassandra Anderson  Perempuan    2023-08-12            NaT   Aktif   \n",
       "3      Nicholas Smith  Laki-laki    2020-12-01            NaT   Aktif   \n",
       "4     Jennifer Walton  Perempuan    2023-01-07     2024-04-05  Resign   \n",
       "\n",
       "  Department       Jabatan  Performance (1-5)  Jumlah Promosi  \\\n",
       "0    Finance  Senior Staff                  1               2   \n",
       "1         HR  Senior Staff                  1               0   \n",
       "2    Finance       Manager                  5               3   \n",
       "3         IT    Supervisor                  2               3   \n",
       "4         IT    Supervisor                  4               0   \n",
       "\n",
       "                                         Feedback  Status_num Sentimen  \\\n",
       "0   Terlalu banyak tekanan kerja tanpa apresiasi.           0  Negatif   \n",
       "1             Saya sangat senang bekerja di sini.           0  Positif   \n",
       "2   Terlalu banyak tekanan kerja tanpa apresiasi.           0  Negatif   \n",
       "3     Saya merasa dihargai atas kerja keras saya.           0  Positif   \n",
       "4  Lingkungan kerja tidak mendukung perkembangan.           1  Negatif   \n",
       "\n",
       "   Sentimen_num  \n",
       "0             1  \n",
       "1             0  \n",
       "2             1  \n",
       "3             0  \n",
       "4             1  "
      ]
     },
     "execution_count": 16,
     "metadata": {},
     "output_type": "execute_result"
    }
   ],
   "source": [
    "df_cleaned.head()"
   ]
  },
  {
   "cell_type": "markdown",
   "id": "5bd95966",
   "metadata": {},
   "source": [
    "df_new = (df[['Nama Pegawai','Gender','Status_num','Jabatan','Performance (1-5)','Jumlah Promosi','Sentimen_num']])"
   ]
  },
  {
   "cell_type": "code",
   "execution_count": 19,
   "id": "6043cb74",
   "metadata": {},
   "outputs": [
    {
     "data": {
      "text/html": [
       "<div>\n",
       "<style scoped>\n",
       "    .dataframe tbody tr th:only-of-type {\n",
       "        vertical-align: middle;\n",
       "    }\n",
       "\n",
       "    .dataframe tbody tr th {\n",
       "        vertical-align: top;\n",
       "    }\n",
       "\n",
       "    .dataframe thead th {\n",
       "        text-align: right;\n",
       "    }\n",
       "</style>\n",
       "<table border=\"1\" class=\"dataframe\">\n",
       "  <thead>\n",
       "    <tr style=\"text-align: right;\">\n",
       "      <th></th>\n",
       "      <th>Nama Pegawai</th>\n",
       "      <th>Gender</th>\n",
       "      <th>Status_num</th>\n",
       "      <th>Jabatan</th>\n",
       "      <th>Performance (1-5)</th>\n",
       "      <th>Jumlah Promosi</th>\n",
       "      <th>Sentimen_num</th>\n",
       "    </tr>\n",
       "  </thead>\n",
       "  <tbody>\n",
       "    <tr>\n",
       "      <th>0</th>\n",
       "      <td>Steven Reid</td>\n",
       "      <td>Laki-laki</td>\n",
       "      <td>0</td>\n",
       "      <td>Senior Staff</td>\n",
       "      <td>1</td>\n",
       "      <td>2</td>\n",
       "      <td>1</td>\n",
       "    </tr>\n",
       "    <tr>\n",
       "      <th>1</th>\n",
       "      <td>Sandra Johnson</td>\n",
       "      <td>Laki-laki</td>\n",
       "      <td>0</td>\n",
       "      <td>Senior Staff</td>\n",
       "      <td>1</td>\n",
       "      <td>0</td>\n",
       "      <td>0</td>\n",
       "    </tr>\n",
       "    <tr>\n",
       "      <th>2</th>\n",
       "      <td>Cassandra Anderson</td>\n",
       "      <td>Perempuan</td>\n",
       "      <td>0</td>\n",
       "      <td>Manager</td>\n",
       "      <td>5</td>\n",
       "      <td>3</td>\n",
       "      <td>1</td>\n",
       "    </tr>\n",
       "    <tr>\n",
       "      <th>3</th>\n",
       "      <td>Nicholas Smith</td>\n",
       "      <td>Laki-laki</td>\n",
       "      <td>0</td>\n",
       "      <td>Supervisor</td>\n",
       "      <td>2</td>\n",
       "      <td>3</td>\n",
       "      <td>0</td>\n",
       "    </tr>\n",
       "    <tr>\n",
       "      <th>4</th>\n",
       "      <td>Jennifer Walton</td>\n",
       "      <td>Perempuan</td>\n",
       "      <td>1</td>\n",
       "      <td>Supervisor</td>\n",
       "      <td>4</td>\n",
       "      <td>0</td>\n",
       "      <td>1</td>\n",
       "    </tr>\n",
       "  </tbody>\n",
       "</table>\n",
       "</div>"
      ],
      "text/plain": [
       "         Nama Pegawai     Gender  Status_num       Jabatan  Performance (1-5)  \\\n",
       "0         Steven Reid  Laki-laki           0  Senior Staff                  1   \n",
       "1      Sandra Johnson  Laki-laki           0  Senior Staff                  1   \n",
       "2  Cassandra Anderson  Perempuan           0       Manager                  5   \n",
       "3      Nicholas Smith  Laki-laki           0    Supervisor                  2   \n",
       "4     Jennifer Walton  Perempuan           1    Supervisor                  4   \n",
       "\n",
       "   Jumlah Promosi  Sentimen_num  \n",
       "0               2             1  \n",
       "1               0             0  \n",
       "2               3             1  \n",
       "3               3             0  \n",
       "4               0             1  "
      ]
     },
     "execution_count": 19,
     "metadata": {},
     "output_type": "execute_result"
    }
   ],
   "source": [
    "df_new = (df_cleaned[['Nama Pegawai','Gender','Status_num','Jabatan','Performance (1-5)','Jumlah Promosi','Sentimen_num']])\n",
    "df_new.head()"
   ]
  },
  {
   "cell_type": "code",
   "execution_count": 23,
   "id": "0f8ba935",
   "metadata": {},
   "outputs": [
    {
     "data": {
      "image/png": "[encoded data removed]",
      "text/plain": [
       "<Figure size 640x480 with 1 Axes>"
      ]
     },
     "metadata": {},
     "output_type": "display_data"
    }
   ],
   "source": [
    "import seaborn as sns\n",
    "import matplotlib.pyplot as plt\n",
    "\n",
    "sns.countplot(data=df_new, x='Jabatan',hue='Status_num')\n",
    "plt.title(\"Distribusi Resign berdasarkan Jabatan (status num 0 untuk aktif dan 1 untuk resign)\")\n",
    "plt.xticks(rotation=45)\n",
    "plt.show()"
   ]
  },
  {
   "cell_type": "code",
   "execution_count": 25,
   "id": "1aaf3e3c",
   "metadata": {},
   "outputs": [
    {
     "data": {
      "image/png": "[encoded data removed]",
      "text/plain": [
       "<Figure size 640x480 with 1 Axes>"
      ]
     },
     "metadata": {},
     "output_type": "display_data"
    }
   ],
   "source": [
    "sns.boxplot(data=df_new, x='Status_num', y='Performance (1-5)')\n",
    "plt.title(\"Distribusi Performance terhadap status\")\n",
    "plt.show()"
   ]
  },
  {
   "cell_type": "code",
   "execution_count": 27,
   "id": "d44cfae3",
   "metadata": {},
   "outputs": [
    {
     "data": {
      "image/png": "[encoded data removed]",
      "text/plain": [
       "<Figure size 640x480 with 1 Axes>"
      ]
     },
     "metadata": {},
     "output_type": "display_data"
    }
   ],
   "source": [
    "sns.countplot(data=df_new, x='Sentimen_num',hue='Status_num')\n",
    "plt.title(\"Sentimen vs Status\")\n",
    "plt.xticks([0,1,2], ['Positif','Negatif','Netral'])\n",
    "plt.show()"
   ]
  },
  {
   "cell_type": "code",
   "execution_count": 30,
   "id": "3a7d7e84",
   "metadata": {},
   "outputs": [
    {
     "data": {
      "text/plain": [
       "Nama Pegawai         100\n",
       "Gender               100\n",
       "Status_num           100\n",
       "Jabatan              100\n",
       "Performance (1-5)    100\n",
       "Jumlah Promosi       100\n",
       "Sentimen_num         100\n",
       "dtype: int64"
      ]
     },
     "execution_count": 30,
     "metadata": {},
     "output_type": "execute_result"
    }
   ],
   "source": [
    "df_new.count()"
   ]
  },
  {
   "cell_type": "code",
   "execution_count": 31,
   "id": "69029418",
   "metadata": {},
   "outputs": [
    {
     "data": {
      "image/png": "[encoded data removed]",
      "text/plain": [
       "<Figure size 640x480 with 1 Axes>"
      ]
     },
     "metadata": {},
     "output_type": "display_data"
    }
   ],
   "source": [
    "###menngetahui promosi vs status\n",
    "sns.boxplot(x='Status_num', y='Jumlah Promosi', data=df_new)\n",
    "plt.title('Distribusi jumlah promosi terhadap status')\n",
    "plt.xlabel('Status_num (0=Aktif, 1=Resign)')\n",
    "plt.ylabel('Jumlah Promosi')\n",
    "plt.show()"
   ]
  },
  {
   "cell_type": "code",
   "execution_count": 32,
   "id": "440cb73d",
   "metadata": {},
   "outputs": [
    {
     "ename": "KeyError",
     "evalue": "'Sentimen'",
     "output_type": "error",
     "traceback": [
      "\u001b[31m---------------------------------------------------------------------------\u001b[39m",
      "\u001b[31mKeyError\u001b[39m                                  Traceback (most recent call last)",
      "\u001b[36mFile \u001b[39m\u001b[32md:\\REZAPROJECT\\portofolio\\hr-data-dashboard\\myenv\\Lib\\site-packages\\pandas\\core\\indexes\\base.py:3805\u001b[39m, in \u001b[36mIndex.get_loc\u001b[39m\u001b[34m(self, key)\u001b[39m\n\u001b[32m   3804\u001b[39m \u001b[38;5;28;01mtry\u001b[39;00m:\n\u001b[32m-> \u001b[39m\u001b[32m3805\u001b[39m     \u001b[38;5;28;01mreturn\u001b[39;00m \u001b[38;5;28;43mself\u001b[39;49m\u001b[43m.\u001b[49m\u001b[43m_engine\u001b[49m\u001b[43m.\u001b[49m\u001b[43mget_loc\u001b[49m\u001b[43m(\u001b[49m\u001b[43mcasted_key\u001b[49m\u001b[43m)\u001b[49m\n\u001b[32m   3806\u001b[39m \u001b[38;5;28;01mexcept\u001b[39;00m \u001b[38;5;167;01mKeyError\u001b[39;00m \u001b[38;5;28;01mas\u001b[39;00m err:\n",
      "\u001b[36mFile \u001b[39m\u001b[32mindex.pyx:167\u001b[39m, in \u001b[36mpandas._libs.index.IndexEngine.get_loc\u001b[39m\u001b[34m()\u001b[39m\n",
      "\u001b[36mFile \u001b[39m\u001b[32mindex.pyx:196\u001b[39m, in \u001b[36mpandas._libs.index.IndexEngine.get_loc\u001b[39m\u001b[34m()\u001b[39m\n",
      "\u001b[36mFile \u001b[39m\u001b[32mpandas\\\\_libs\\\\hashtable_class_helper.pxi:7081\u001b[39m, in \u001b[36mpandas._libs.hashtable.PyObjectHashTable.get_item\u001b[39m\u001b[34m()\u001b[39m\n",
      "\u001b[36mFile \u001b[39m\u001b[32mpandas\\\\_libs\\\\hashtable_class_helper.pxi:7089\u001b[39m, in \u001b[36mpandas._libs.hashtable.PyObjectHashTable.get_item\u001b[39m\u001b[34m()\u001b[39m\n",
      "\u001b[31mKeyError\u001b[39m: 'Sentimen'",
      "\nThe above exception was the direct cause of the following exception:\n",
      "\u001b[31mKeyError\u001b[39m                                  Traceback (most recent call last)",
      "\u001b[36mCell\u001b[39m\u001b[36m \u001b[39m\u001b[32mIn[32]\u001b[39m\u001b[32m, line 2\u001b[39m\n\u001b[32m      1\u001b[39m \u001b[38;5;66;03m### mengubah sentimen menjadi 0 untuk Positif dan 1 untuk Negatif\u001b[39;00m\n\u001b[32m----> \u001b[39m\u001b[32m2\u001b[39m df_new[\u001b[33m'\u001b[39m\u001b[33mSentimen_num\u001b[39m\u001b[33m'\u001b[39m] = \u001b[43mdf_new\u001b[49m\u001b[43m[\u001b[49m\u001b[33;43m'\u001b[39;49m\u001b[33;43mSentimen\u001b[39;49m\u001b[33;43m'\u001b[39;49m\u001b[43m]\u001b[49m.map({\u001b[33m'\u001b[39m\u001b[33mPositif\u001b[39m\u001b[33m'\u001b[39m:\u001b[32m0\u001b[39m, \u001b[33m'\u001b[39m\u001b[33mNegatif\u001b[39m\u001b[33m'\u001b[39m:\u001b[32m1\u001b[39m,\u001b[33m'\u001b[39m\u001b[33mNetral\u001b[39m\u001b[33m'\u001b[39m:\u001b[32m2\u001b[39m})\n\u001b[32m      3\u001b[39m df_new\n",
      "\u001b[36mFile \u001b[39m\u001b[32md:\\REZAPROJECT\\portofolio\\hr-data-dashboard\\myenv\\Lib\\site-packages\\pandas\\core\\frame.py:4102\u001b[39m, in \u001b[36mDataFrame.__getitem__\u001b[39m\u001b[34m(self, key)\u001b[39m\n\u001b[32m   4100\u001b[39m \u001b[38;5;28;01mif\u001b[39;00m \u001b[38;5;28mself\u001b[39m.columns.nlevels > \u001b[32m1\u001b[39m:\n\u001b[32m   4101\u001b[39m     \u001b[38;5;28;01mreturn\u001b[39;00m \u001b[38;5;28mself\u001b[39m._getitem_multilevel(key)\n\u001b[32m-> \u001b[39m\u001b[32m4102\u001b[39m indexer = \u001b[38;5;28;43mself\u001b[39;49m\u001b[43m.\u001b[49m\u001b[43mcolumns\u001b[49m\u001b[43m.\u001b[49m\u001b[43mget_loc\u001b[49m\u001b[43m(\u001b[49m\u001b[43mkey\u001b[49m\u001b[43m)\u001b[49m\n\u001b[32m   4103\u001b[39m \u001b[38;5;28;01mif\u001b[39;00m is_integer(indexer):\n\u001b[32m   4104\u001b[39m     indexer = [indexer]\n",
      "\u001b[36mFile \u001b[39m\u001b[32md:\\REZAPROJECT\\portofolio\\hr-data-dashboard\\myenv\\Lib\\site-packages\\pandas\\core\\indexes\\base.py:3812\u001b[39m, in \u001b[36mIndex.get_loc\u001b[39m\u001b[34m(self, key)\u001b[39m\n\u001b[32m   3807\u001b[39m     \u001b[38;5;28;01mif\u001b[39;00m \u001b[38;5;28misinstance\u001b[39m(casted_key, \u001b[38;5;28mslice\u001b[39m) \u001b[38;5;129;01mor\u001b[39;00m (\n\u001b[32m   3808\u001b[39m         \u001b[38;5;28misinstance\u001b[39m(casted_key, abc.Iterable)\n\u001b[32m   3809\u001b[39m         \u001b[38;5;129;01mand\u001b[39;00m \u001b[38;5;28many\u001b[39m(\u001b[38;5;28misinstance\u001b[39m(x, \u001b[38;5;28mslice\u001b[39m) \u001b[38;5;28;01mfor\u001b[39;00m x \u001b[38;5;129;01min\u001b[39;00m casted_key)\n\u001b[32m   3810\u001b[39m     ):\n\u001b[32m   3811\u001b[39m         \u001b[38;5;28;01mraise\u001b[39;00m InvalidIndexError(key)\n\u001b[32m-> \u001b[39m\u001b[32m3812\u001b[39m     \u001b[38;5;28;01mraise\u001b[39;00m \u001b[38;5;167;01mKeyError\u001b[39;00m(key) \u001b[38;5;28;01mfrom\u001b[39;00m\u001b[38;5;250m \u001b[39m\u001b[34;01merr\u001b[39;00m\n\u001b[32m   3813\u001b[39m \u001b[38;5;28;01mexcept\u001b[39;00m \u001b[38;5;167;01mTypeError\u001b[39;00m:\n\u001b[32m   3814\u001b[39m     \u001b[38;5;66;03m# If we have a listlike key, _check_indexing_error will raise\u001b[39;00m\n\u001b[32m   3815\u001b[39m     \u001b[38;5;66;03m#  InvalidIndexError. Otherwise we fall through and re-raise\u001b[39;00m\n\u001b[32m   3816\u001b[39m     \u001b[38;5;66;03m#  the TypeError.\u001b[39;00m\n\u001b[32m   3817\u001b[39m     \u001b[38;5;28mself\u001b[39m._check_indexing_error(key)\n",
      "\u001b[31mKeyError\u001b[39m: 'Sentimen'"
     ]
    }
   ],
   "source": [
    "### mengubah sentimen menjadi 0 untuk Positif dan 1 untuk Negatif\n",
    "df_new['Sentimen_num'] = df_new['Sentimen'].map({'Positif':0, 'Negatif':1,'Netral':2})\n",
    "df_new"
   ]
  },
  {
   "cell_type": "code",
   "execution_count": null,
   "id": "0a936f8a",
   "metadata": {},
   "outputs": [],
   "source": []
  }
 ],
 "metadata": {
  "kernelspec": {
   "display_name": "myenv",
   "language": "python",
   "name": "python3"
  },
  "language_info": {
   "codemirror_mode": {
    "name": "ipython",
    "version": 3
   },
   "file_extension": ".py",
   "mimetype": "text/x-python",
   "name": "python",
   "nbconvert_exporter": "python",
   "pygments_lexer": "ipython3",
   "version": "3.12.10"
  }
 },
 "nbformat": 4,
 "nbformat_minor": 5
}
